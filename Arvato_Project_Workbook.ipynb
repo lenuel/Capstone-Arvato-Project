{
 "cells": [
  {
   "cell_type": "markdown",
   "metadata": {},
   "source": [
    "# Capstone Project: Create a Customer Segmentation Report for Arvato Financial Services\n",
    "\n",
    "In this project, you will analyze demographics data for customers of a mail-order sales company in Germany, comparing it against demographics information for the general population. You'll use unsupervised learning techniques to perform customer segmentation, identifying the parts of the population that best describe the core customer base of the company. Then, you'll apply what you've learned on a third dataset with demographics information for targets of a marketing campaign for the company, and use a model to predict which individuals are most likely to convert into becoming customers for the company. The data that you will use has been provided by our partners at Bertelsmann Arvato Analytics, and represents a real-life data science task.\n",
    "\n",
    "If you completed the first term of this program, you will be familiar with the first part of this project, from the unsupervised learning project. The versions of those two datasets used in this project will include many more features and has not been pre-cleaned. You are also free to choose whatever approach you'd like to analyzing the data rather than follow pre-determined steps. In your work on this project, make sure that you carefully document your steps and decisions, since your main deliverable for this project will be a blog post reporting your findings."
   ]
  },
  {
   "cell_type": "code",
   "execution_count": 1,
   "metadata": {},
   "outputs": [],
   "source": [
    "# import libraries\n",
    "import numpy as np\n",
    "import pandas as pd\n",
    "import matplotlib.pyplot as plt\n",
    "import seaborn as sns\n",
    "import math\n",
    "import random\n",
    "from sklearn.preprocessing import FunctionTransformer, Imputer, StandardScaler\n",
    "from sklearn.impute import SimpleImputer\n",
    "from sklearn.compose import ColumnTransformer\n",
    "from sklearn.decomposition import PCA\n",
    "from sklearn.cluster import KMeans\n",
    "from sklearn.cluster import MiniBatchKMeans\n",
    "\n",
    "from sklearn.base import BaseEstimator, TransformerMixin\n",
    "from sklearn.pipeline import FeatureUnion, Pipeline\n",
    "\n",
    "#import custom module\n",
    "from cluster import etl_pipeline as etl\n",
    "from cluster.etl_pipeline import DummiesTransformer\n",
    "\n",
    "# magic word for producing visualizations in notebook\n",
    "%matplotlib inline"
   ]
  },
  {
   "cell_type": "markdown",
   "metadata": {},
   "source": [
    "## Part 0: Get to Know the Data\n",
    "\n",
    "There are four data files associated with this project:\n",
    "\n",
    "- `Udacity_AZDIAS_052018.csv`: Demographics data for the general population of Germany; 891 211 persons (rows) x 366 features (columns).\n",
    "- `Udacity_CUSTOMERS_052018.csv`: Demographics data for customers of a mail-order company; 191 652 persons (rows) x 369 features (columns).\n",
    "- `Udacity_MAILOUT_052018_TRAIN.csv`: Demographics data for individuals who were targets of a marketing campaign; 42 982 persons (rows) x 367 (columns).\n",
    "- `Udacity_MAILOUT_052018_TEST.csv`: Demographics data for individuals who were targets of a marketing campaign; 42 833 persons (rows) x 366 (columns).\n",
    "\n",
    "Each row of the demographics files represents a single person, but also includes information outside of individuals, including information about their household, building, and neighborhood. Use the information from the first two files to figure out how customers (\"CUSTOMERS\") are similar to or differ from the general population at large (\"AZDIAS\"), then use your analysis to make predictions on the other two files (\"MAILOUT\"), predicting which recipients are most likely to become a customer for the mail-order company.\n",
    "\n",
    "The \"CUSTOMERS\" file contains three extra columns ('CUSTOMER_GROUP', 'ONLINE_PURCHASE', and 'PRODUCT_GROUP'), which provide broad information about the customers depicted in the file. The original \"MAILOUT\" file included one additional column, \"RESPONSE\", which indicated whether or not each recipient became a customer of the company. For the \"TRAIN\" subset, this column has been retained, but in the \"TEST\" subset it has been removed; it is against that withheld column that your final predictions will be assessed in the Kaggle competition.\n",
    "\n",
    "Otherwise, all of the remaining columns are the same between the three data files. For more information about the columns depicted in the files, you can refer to two Excel spreadsheets provided in the workspace. [One of them](./DIAS Information Levels - Attributes 2017.xlsx) is a top-level list of attributes and descriptions, organized by informational category. [The other](./DIAS Attributes - Values 2017.xlsx) is a detailed mapping of data values for each feature in alphabetical order.\n",
    "\n",
    "In the below cell, we've provided some initial code to load in the first two datasets. Note for all of the `.csv` data files in this project that they're semicolon (`;`) delimited, so an additional argument in the [`read_csv()`](https://pandas.pydata.org/pandas-docs/stable/generated/pandas.read_csv.html) call has been included to read in the data properly. Also, considering the size of the datasets, it may take some time for them to load completely.\n",
    "\n",
    "You'll notice when the data is loaded in that a warning message will immediately pop up. Before you really start digging into the modeling and analysis, you're going to need to perform some cleaning. Take some time to browse the structure of the data and look over the informational spreadsheets to understand the data values. Make some decisions on which features to keep, which features to drop, and if any revisions need to be made on data formats. It'll be a good idea to create a function with pre-processing steps, since you'll need to clean all of the datasets before you work with them."
   ]
  },
  {
   "cell_type": "code",
   "execution_count": 2,
   "metadata": {},
   "outputs": [],
   "source": [
    "# load in the data\n",
    "azdias = pd.read_csv('../Arvato-Capstone/Udacity_AZDIAS_052018.csv', sep=';', low_memory=False)\n",
    "customers = pd.read_csv('../Arvato-Capstone/Udacity_CUSTOMERS_052018.csv', sep=';', low_memory=False)"
   ]
  },
  {
   "cell_type": "code",
   "execution_count": null,
   "metadata": {
    "collapsed": true
   },
   "outputs": [],
   "source": [
    "#Shape and head of general data\n",
    "print(\"General population shape {}.\".format(azdias.shape))\n",
    "azdias.head()"
   ]
  },
  {
   "cell_type": "code",
   "execution_count": null,
   "metadata": {
    "collapsed": true
   },
   "outputs": [],
   "source": [
    "azdias.describe()"
   ]
  },
  {
   "cell_type": "code",
   "execution_count": null,
   "metadata": {
    "collapsed": true
   },
   "outputs": [],
   "source": [
    "#Shape and head of customers data\n",
    "print(\"Customers shape {}.\".format(customers.shape))\n",
    "customers.head()"
   ]
  },
  {
   "cell_type": "code",
   "execution_count": null,
   "metadata": {
    "collapsed": true
   },
   "outputs": [],
   "source": [
    "customers.describe()"
   ]
  },
  {
   "cell_type": "markdown",
   "metadata": {},
   "source": [
    "## Preprocessing\n",
    "\n",
    "### Assess Missing Data\n",
    "\n",
    "#### Create missing value keys dictionary from 'DIAS Attributs - Values 2017.xlsx'\n",
    "\n",
    " - 1. 'DIAS Attributes - Values 2017.xlsx' file was converted to csv file 'DIAS_Attributes_Values_2017.csv'. \n",
    " - 2. create_missing_code_dict function is created to create dictionary of missings keys for attributes\n"
   ]
  },
  {
   "cell_type": "code",
   "execution_count": 4,
   "metadata": {
    "collapsed": true
   },
   "outputs": [],
   "source": [
    "missing_keys_dict = etl.create_missing_key_dict(\"./data/DIAS_Attributes_Values_2017.csv\")\n",
    "\n",
    "#assess initially missing data\n",
    "ini_missing = etl.get_missing_by_column(azdias)"
   ]
  },
  {
   "cell_type": "markdown",
   "metadata": {},
   "source": [
    "#### Convert Missing Value Codes to NaNs"
   ]
  },
  {
   "cell_type": "code",
   "execution_count": 5,
   "metadata": {},
   "outputs": [
    {
     "name": "stdout",
     "output_type": "stream",
     "text": [
      "Attribute BIP_FLAG is not available in DataFrame.\n",
      "Attribute CAMEO_DEUINTL_2015 is not available in DataFrame.\n",
      "Attribute D19_KK_KUNDENTYP is not available in DataFrame.\n",
      "Attribute GEOSCORE_KLS7 is not available in DataFrame.\n",
      "Attribute HAUSHALTSSTRUKTUR is not available in DataFrame.\n",
      "Attribute KBA13_CCM_1400_2500 is not available in DataFrame.\n",
      "Attribute SOHO_FLAG is not available in DataFrame.\n",
      "Attribute WACHSTUMSGEBIET_NB is not available in DataFrame.\n",
      "Attribute D19_BUCH is not available in DataFrame.\n",
      "Attribute D19_KINDERARTIKELD19_KOSMETIK is not available in DataFrame.\n"
     ]
    }
   ],
   "source": [
    "etl.convert_keys_to_nan(azdias, missing_keys_dict)"
   ]
  },
  {
   "cell_type": "markdown",
   "metadata": {},
   "source": [
    "Note that note all attributes that are listed in DIAS_Attributes_Values_2017 file are present in AZDIAS dataset"
   ]
  },
  {
   "cell_type": "markdown",
   "metadata": {},
   "source": [
    "#### Assess Missing Data in Each Column"
   ]
  },
  {
   "cell_type": "code",
   "execution_count": 6,
   "metadata": {},
   "outputs": [
    {
     "name": "stdout",
     "output_type": "stream",
     "text": [
      "                  Attribute  ini_missing  final_missing  percent_missing\n",
      "7               ALTER_KIND4       890016         890016            99.86\n",
      "349                TITEL_KZ       889061         889061            99.76\n",
      "6               ALTER_KIND3       885051         885051            99.31\n",
      "33         D19_BANKEN_LOKAL       874745         874745            98.15\n",
      "5               ALTER_KIND2       861722         861722            96.69\n",
      "43           D19_DIGIT_SERV       857661         857661            96.23\n",
      "41             D19_BIO_OEKO       854074         854074            95.83\n",
      "79          D19_TIERARTIKEL       852220         852220            95.62\n",
      "63   D19_NAHRUNGSERGAENZUNG       852176         852176            95.62\n",
      "47               D19_GARTEN       851626         851626            95.56\n",
      "60         D19_LEBENSMITTEL       837914         837914            94.02\n",
      "95        D19_WEIN_FEINKOST       836142         836142            93.82\n",
      "45              D19_ENERGIE       829857         829857            93.11\n",
      "37          D19_BANKEN_REST       821760         821760            92.21\n",
      "40              D19_BILDUNG       813156         813156            91.24\n",
      "4               ALTER_KIND1       810163         810163            90.90\n",
      "38       D19_BEKLEIDUNG_GEH       809304         809304            90.81\n",
      "64             D19_RATGEBER       805071         805071            90.33\n",
      "66        D19_SAMMELARTIKEL       802085         802085            90.00\n",
      "46             D19_FREIZEIT       790748         790748            88.73\n"
     ]
    }
   ],
   "source": [
    "# Perform an assessment of how much missing data there is in each column of the\n",
    "# dataset.\n",
    "sorted_missing_info = etl.create_missing_info_df(azdias, ini_missing)\n",
    "print(sorted_missing_info.round(2)[:20])"
   ]
  },
  {
   "cell_type": "code",
   "execution_count": 7,
   "metadata": {},
   "outputs": [
    {
     "name": "stdout",
     "output_type": "stream",
     "text": [
      "Distribution of missing values in AZDIAS dataset\n"
     ]
    },
    {
     "data": {
      "image/png": "[encoded data removed]",
      "text/plain": [
       "<Figure size 360x1080 with 1 Axes>"
      ]
     },
     "metadata": {},
     "output_type": "display_data"
    }
   ],
   "source": [
    "#plot barh plot of final missing values in Azdias\n",
    "print(\"Distribution of missing values in AZDIAS dataset\")\n",
    "etl.plot_attribute_distribution(sorted_missing_info, \"Attribute\", \"percent_missing\", 90)"
   ]
  },
  {
   "cell_type": "code",
   "execution_count": 8,
   "metadata": {},
   "outputs": [
    {
     "name": "stdout",
     "output_type": "stream",
     "text": [
      "41\n",
      "['ALTER_KIND4', 'TITEL_KZ', 'ALTER_KIND3', 'D19_BANKEN_LOKAL', 'ALTER_KIND2', 'D19_DIGIT_SERV', 'D19_BIO_OEKO', 'D19_TIERARTIKEL', 'D19_NAHRUNGSERGAENZUNG', 'D19_GARTEN', 'D19_LEBENSMITTEL', 'D19_WEIN_FEINKOST', 'D19_ENERGIE', 'D19_BANKEN_REST', 'D19_BILDUNG', 'ALTER_KIND1', 'D19_BEKLEIDUNG_GEH', 'D19_RATGEBER', 'D19_SAMMELARTIKEL', 'D19_FREIZEIT', 'D19_BANKEN_GROSS', 'D19_SCHUHE', 'D19_HANDWERK', 'D19_TELKO_REST', 'D19_DROGERIEARTIKEL', 'D19_LOTTO', 'D19_VERSAND_REST', 'D19_BANKEN_DIREKT', 'D19_TELKO_MOBILE', 'D19_HAUS_DEKO', 'D19_BEKLEIDUNG_REST', 'AGER_TYP', 'D19_VERSICHERUNGEN', 'EXTSEL992', 'D19_TECHNIK', 'D19_VOLLSORTIMENT', 'KK_KUNDENTYP', 'D19_SONSTIGE', 'KBA05_BAUMAX', 'GEBURTSJAHR', 'ALTER_HH']\n",
      "[99.86 99.76 99.31 98.15 96.69 96.23 95.83 95.62 95.62 95.56 94.02 93.82\n",
      " 93.11 92.21 91.24 90.9  90.81 90.33 90.   88.73 88.12 86.74 86.22 85.95\n",
      " 85.39 83.92 82.41 81.78 81.55 80.01 77.7  76.02 73.46 73.4  70.7  67.32\n",
      " 65.6  56.77 53.47 44.02 34.81]\n"
     ]
    }
   ],
   "source": [
    "#print attributes with more than 30% percent of missing data\n",
    "deleted_columns_1 = sorted_missing_info[sorted_missing_info[\"percent_missing\"]>30][\"Attribute\"].values\n",
    "print (len(deleted_columns_1))\n",
    "print (list(deleted_columns_1))\n",
    "print (sorted_missing_info[sorted_missing_info[\"percent_missing\"]>30][\"percent_missing\"].values.round(2))"
   ]
  },
  {
   "cell_type": "markdown",
   "metadata": {},
   "source": [
    "In this step I have identified the columns with missing values (np.NaN). The analysis demonstrates that most of the columns have less than 30% of missing data while there are 41 attributes with more than 30% of missing data. Among these attributes are 'ALTER_KIND4', 'TITEL_KZ', 'ALTER_KIND3', 'D19_BANKEN_LOKAL', 'ALTER_KIND2', 'D19_DIGIT_SERV', 'D19_BIO_OEKO', 'D19_TIERARTIKEL', 'D19_NAHRUNGSERGAENZUNG', 'D19_GARTEN', 'D19_LEBENSMITTEL', 'D19_WEIN_FEINKOST', 'D19_ENERGIE', 'D19_BANKEN_REST', 'D19_BILDUNG', 'ALTER_KIND1', 'D19_BEKLEIDUNG_GEH', 'D19_RATGEBER', 'D19_SAMMELARTIKEL', 'D19_FREIZEIT', 'D19_BANKEN_GROSS', 'D19_SCHUHE', 'D19_HANDWERK', 'D19_TELKO_REST', 'D19_DROGERIEARTIKEL', 'D19_LOTTO', 'D19_VERSAND_REST', 'D19_BANKEN_DIREKT', 'D19_TELKO_MOBILE', 'D19_HAUS_DEKO', 'D19_BEKLEIDUNG_REST', 'AGER_TYP', 'D19_VERSICHERUNGEN', 'EXTSEL992', 'D19_TECHNIK', 'D19_VOLLSORTIMENT', 'KK_KUNDENTYP', 'D19_SONSTIGE', 'KBA05_BAUMAX', 'GEBURTSJAHR', 'ALTER_HH'. These 41 attributes will be dropped from analysis.\n"
   ]
  },
  {
   "cell_type": "markdown",
   "metadata": {},
   "source": [
    "Besides that, the attributes with similar amount of missing data were identified:\n",
    "    \n",
    "    158064  (%17.74): KKK, REGIOTYP\n",
    "    148115 (%16.62):  most of KBA_05 features\n",
    "    133324 (%14.96): all RR3 micro-cell features (KBA05_ANTG3, KBA05_ANTG1, KBA05_ANTG2, KBA05_GBZ, KBA05_ANTG4, MOBI_REGIO) \n",
    "    116515 (%13.07): all PLZ8 macro-cell features (PLZ8_ANTG2, PLZ8_ANTG1, PLZ8_ANTG3, PLZ8_ANTG4, PLZ8_BAUMAX, PLZ8_HHZ, PLZ8_GBZ)\n",
    "    111196 missing by code (%12.48): VERS_TYP, SHOPPER_TYP, HEALTH_TYP\n",
    "    SEMIO_, FINANZ_, AGER_TYP, ALTERSKATEGORIE_GROB, ANREDE_KZ, GEBURTSJAHR, GREEN_AVANTGARDE,\n",
    "    HEALTH_TYP, NATIONALITAET_KZ and PRAEGENDE_JUGENDJAHRE attributes with zero missing features."
   ]
  },
  {
   "cell_type": "markdown",
   "metadata": {},
   "source": [
    "#### Drop columns####\n",
    "Drop columns with more than 30% percent of missing values listed in list of deleted_columns (41 coulmns) need to be dropped.\n",
    "\n",
    "Additionally we will drop the columns that are unique, categorical with more than 10 categories (however we will keep CAMEO_INTL_2015), binary with more than 70 percent of one value, with repetition from another feature, and some attributes which do not have explanation in info file.   \n",
    "\n",
    "\n",
    "To identified these columns I have created attribute_types.csv file where type and action with each of attributes is addressed. Also the type for missing discription attributes that is not similar to any listed attributes is taken as categorical. These unknown atributes are listed with question mark infront of type.\n",
    "    "
   ]
  },
  {
   "cell_type": "code",
   "execution_count": 4,
   "metadata": {},
   "outputs": [
    {
     "name": "stdout",
     "output_type": "stream",
     "text": [
      "Additional attributes that needs to be dropped: \n",
      "['LNR' 'ANZ_HH_TITEL' 'ANZ_KINDER' 'ANZ_TITEL' 'CAMEO_DEU_2015'\n",
      " 'GEBAEUDETYP' 'GEBURTSJAHR' 'KBA05_MODTEMP' 'LP_FAMILIE_FEIN'\n",
      " 'LP_LEBENSPHASE_FEIN' 'LP_LEBENSPHASE_GROB' 'LP_STATUS_FEIN' 'PLZ8_ANTG1'\n",
      " 'PLZ8_ANTG2' 'PLZ8_ANTG3' 'PLZ8_ANTG4' 'VERDICHTUNGSRAUM' 'VK_DHT4A'\n",
      " 'VK_DISTANZ' 'VK_ZG11' 'ALTERSKATEGORIE_FEIN' 'D19_TELKO_ONLINE_QUOTE_12'\n",
      " 'D19_LETZTER_KAUF_BRANCHE' 'D19_VERSI_ONLINE_QUOTE_12'].\n",
      "\n"
     ]
    }
   ],
   "source": [
    "att_type = pd.read_csv('./data/attribute_types.csv', sep=',')\n",
    "att_type.head()\n",
    "\n",
    "#attributes that needs to be dropped\n",
    "deleted_columns_2 = att_type[att_type[\"action\"].isin([\"drop\"])][\"attribute\"].values\n",
    "print(\"Additional attributes that needs to be dropped: \\n\"\n",
    "      \"{}.\".format(deleted_columns_2))\n",
    "print(\"\")\n"
   ]
  },
  {
   "cell_type": "code",
   "execution_count": 10,
   "metadata": {},
   "outputs": [
    {
     "name": "stdout",
     "output_type": "stream",
     "text": [
      "List of columns that wiil be deleted: \n",
      "['ALTER_KIND4', 'TITEL_KZ', 'ALTER_KIND3', 'D19_BANKEN_LOKAL', 'ALTER_KIND2', 'D19_DIGIT_SERV', 'D19_BIO_OEKO', 'D19_TIERARTIKEL', 'D19_NAHRUNGSERGAENZUNG', 'D19_GARTEN', 'D19_LEBENSMITTEL', 'D19_WEIN_FEINKOST', 'D19_ENERGIE', 'D19_BANKEN_REST', 'D19_BILDUNG', 'ALTER_KIND1', 'D19_BEKLEIDUNG_GEH', 'D19_RATGEBER', 'D19_SAMMELARTIKEL', 'D19_FREIZEIT', 'D19_BANKEN_GROSS', 'D19_SCHUHE', 'D19_HANDWERK', 'D19_TELKO_REST', 'D19_DROGERIEARTIKEL', 'D19_LOTTO', 'D19_VERSAND_REST', 'D19_BANKEN_DIREKT', 'D19_TELKO_MOBILE', 'D19_HAUS_DEKO', 'D19_BEKLEIDUNG_REST', 'AGER_TYP', 'D19_VERSICHERUNGEN', 'EXTSEL992', 'D19_TECHNIK', 'D19_VOLLSORTIMENT', 'KK_KUNDENTYP', 'D19_SONSTIGE', 'KBA05_BAUMAX', 'GEBURTSJAHR', 'ALTER_HH', 'LNR', 'ANZ_HH_TITEL', 'ANZ_KINDER', 'ANZ_TITEL', 'CAMEO_DEU_2015', 'GEBAEUDETYP', 'GEBURTSJAHR', 'KBA05_MODTEMP', 'LP_FAMILIE_FEIN', 'LP_LEBENSPHASE_FEIN', 'LP_LEBENSPHASE_GROB', 'LP_STATUS_FEIN', 'PLZ8_ANTG1', 'PLZ8_ANTG2', 'PLZ8_ANTG3', 'PLZ8_ANTG4', 'VERDICHTUNGSRAUM', 'VK_DHT4A', 'VK_DISTANZ', 'VK_ZG11', 'ALTERSKATEGORIE_FEIN', 'D19_TELKO_ONLINE_QUOTE_12', 'D19_LETZTER_KAUF_BRANCHE', 'D19_VERSI_ONLINE_QUOTE_12'].\n"
     ]
    }
   ],
   "source": [
    "deleted_columns = list(deleted_columns_1) + list(deleted_columns_2)\n",
    "print(\"List of columns that wiil be deleted: \\n{}.\".format(deleted_columns))"
   ]
  },
  {
   "cell_type": "code",
   "execution_count": 11,
   "metadata": {},
   "outputs": [
    {
     "name": "stdout",
     "output_type": "stream",
     "text": [
      "(891221, 366)\n",
      "(891221, 302)\n"
     ]
    }
   ],
   "source": [
    "#drop columns with more than 30% of missing data\n",
    "print(azdias.shape)\n",
    "azdias_reduced = azdias.drop(deleted_columns,axis=1)\n",
    "print(azdias_reduced.shape)\n"
   ]
  },
  {
   "cell_type": "markdown",
   "metadata": {},
   "source": [
    "#### Assess Missing Data in Each Row"
   ]
  },
  {
   "cell_type": "code",
   "execution_count": 12,
   "metadata": {},
   "outputs": [
    {
     "name": "stdout",
     "output_type": "stream",
     "text": [
      "count    891221.000000\n",
      "mean         30.869677\n",
      "std          70.906169\n",
      "min           0.000000\n",
      "25%           0.000000\n",
      "50%           0.000000\n",
      "75%           5.000000\n",
      "max         233.000000\n",
      "Name: n_missing, dtype: float64\n"
     ]
    }
   ],
   "source": [
    "# How much data is missing in each row of the dataset?\n",
    "azdias_reduced['n_missing'] = azdias_reduced.isnull().sum(axis=1)\n",
    "#print(\"First 20 rows with the highest missing values: \\n\", azdias['n_missing'].sort_values(ascending=False)[:20])\n",
    "print(azdias_reduced['n_missing'].describe())\n"
   ]
  },
  {
   "cell_type": "code",
   "execution_count": 13,
   "metadata": {},
   "outputs": [
    {
     "data": {
      "text/plain": [
       "Text(0,0.5,'Number of rows')"
      ]
     },
     "execution_count": 13,
     "metadata": {},
     "output_type": "execute_result"
    },
    {
     "data": {
      "image/png": "[encoded data removed]",
      "text/plain": [
       "<Figure size 432x288 with 1 Axes>"
      ]
     },
     "metadata": {},
     "output_type": "display_data"
    }
   ],
   "source": [
    "ax = azdias_reduced[\"n_missing\"].plot(kind='hist', bins=40)\n",
    "ax.set_xlabel(\"Amount of missing data out of {} attributes\".format(azdias_reduced.shape[1]))\n",
    "ax.set_ylabel(\"Number of rows\")"
   ]
  },
  {
   "cell_type": "code",
   "execution_count": 14,
   "metadata": {},
   "outputs": [
    {
     "name": "stdout",
     "output_type": "stream",
     "text": [
      "(737235, 302)\n",
      "(153986, 302)\n"
     ]
    }
   ],
   "source": [
    "#divide the data into two subsets based on the number of missing\n",
    "# values in each row.\n",
    "#We will separate at 25 missing attributes\n",
    "azdias_few_nan = azdias_reduced[azdias_reduced[\"n_missing\"]<= 25].drop(\"n_missing\", axis=1)\n",
    "azdias_nan = azdias_reduced[azdias_reduced[\"n_missing\"]> 25].drop(\"n_missing\", axis=1)\n",
    "\n",
    "print(azdias_few_nan.shape)\n",
    "print(azdias_nan.shape)"
   ]
  },
  {
   "cell_type": "code",
   "execution_count": 15,
   "metadata": {},
   "outputs": [
    {
     "name": "stdout",
     "output_type": "stream",
     "text": [
      "Comparison of distribution of values for columns where there are no missing values between No NaN and droped NaN subsets.\n"
     ]
    },
    {
     "data": {
      "image/png": "[encoded data removed]",
      "text/plain": [
       "<Figure size 1008x432 with 6 Axes>"
      ]
     },
     "metadata": {},
     "output_type": "display_data"
    }
   ],
   "source": [
    "# Compare the distribution of values for at least six columns where there are\n",
    "# no or few missing values, between the two subsets.\n",
    "#list of attributes with no missing values\n",
    "attribute_list  = sorted_missing_info[sorted_missing_info['final_missing']<200]['Attribute'].values\n",
    "#print(attribute_list)\n",
    "\n",
    "print(\"Comparison of distribution of values for columns where there are no missing values between No NaN and droped NaN subsets.\")\n",
    "etl.plot_distribution_comparison(azdias_few_nan, \"Few nan\", azdias_nan, \"Many nan\", attribute_list) "
   ]
  },
  {
   "cell_type": "markdown",
   "metadata": {},
   "source": [
    "The maximum number of missing data in each row is 233 attributes out of 303 attributes. The distribution of amount of missing data in each row demonstrates that mosst of the rows has less than 25 missing attribute. So, the data was devided into two subsets: azdias_few_nan with <=25 missing attributes (737235 rows) and azdias_nan with >25 missing attributes ( 153986 rows). Comparison of distribution of values for 6 randomly choosen columns demonstrates that there is similar distribution in two data_sets with few missing values (Few Nans) and a lot of NaNs (Nans) \n",
    "\n",
    "[ZABEOTYP, D19_GESAMT_ANZ_24, D19_KINDERARTIKEL, D19_VERSAND_ONLINE_DATUM, FINANZ_VORSORGER and D19_GESAMT_ONLINE_DATUM]"
   ]
  },
  {
   "cell_type": "markdown",
   "metadata": {},
   "source": [
    "### Clean and enginner new features using clean function###"
   ]
  },
  {
   "cell_type": "markdown",
   "metadata": {},
   "source": [
    "#### Attributes that needs engineering####\n",
    "Engineering of these attributes was included in clean_data function"
   ]
  },
  {
   "cell_type": "code",
   "execution_count": 5,
   "metadata": {},
   "outputs": [
    {
     "name": "stdout",
     "output_type": "stream",
     "text": [
      "Attributes that need engineering: \n",
      "['CAMEO_INTL_2015', 'EINGEFUEGT_AM', 'OST_WEST_KZ', 'PLZ8_BAUMAX', 'PRAEGENDE_JUGENDJAHRE', 'WOHNLAGE'].\n",
      "\n"
     ]
    }
   ],
   "source": [
    "engineered_attributes = list(np.intersect1d(att_type[att_type[\"action\"].isin([\"engineering\"])][\"attribute\"].values, azdias.columns))\n",
    "print(\"Attributes that need engineering: \\n\"\n",
    "      \"{}.\".format(engineered_attributes))\n",
    "print(\"\")\n"
   ]
  },
  {
   "cell_type": "code",
   "execution_count": 6,
   "metadata": {},
   "outputs": [
    {
     "name": "stdout",
     "output_type": "stream",
     "text": [
      "Convert missing value codes into NaNs\n",
      "Attribute BIP_FLAG is not available in DataFrame.\n",
      "Attribute CAMEO_DEUINTL_2015 is not available in DataFrame.\n",
      "Attribute D19_KK_KUNDENTYP is not available in DataFrame.\n",
      "Attribute GEOSCORE_KLS7 is not available in DataFrame.\n",
      "Attribute HAUSHALTSSTRUKTUR is not available in DataFrame.\n",
      "Attribute KBA13_CCM_1400_2500 is not available in DataFrame.\n",
      "Attribute SOHO_FLAG is not available in DataFrame.\n",
      "Attribute WACHSTUMSGEBIET_NB is not available in DataFrame.\n",
      "Attribute D19_BUCH is not available in DataFrame.\n",
      "Attribute D19_KINDERARTIKELD19_KOSMETIK is not available in DataFrame.\n",
      "Drop columns with more than 30% of missing values\n",
      "Drop columns indicated in attribute_types.csv file\n",
      "Remove rows with more than 25 missing attributes\n",
      "Reencode OST_WEST_KZ attribute\n",
      "Change EINGEFUEGT_AM to year\n",
      "(737235, 302)\n",
      "Engineer PRAEGENDE_JUGENDJAHRE\n",
      "Engineer CAMEO_INTL_2015\n",
      "Engineer WOHNLAGE\n",
      "Engineer PLZ8_BAUMAX\n"
     ]
    },
    {
     "data": {
      "text/plain": [
       "(737235, 305)"
      ]
     },
     "execution_count": 6,
     "metadata": {},
     "output_type": "execute_result"
    }
   ],
   "source": [
    "azdias_cleaned = etl.clean_data(azdias)\n",
    "azdias_cleaned.shape"
   ]
  },
  {
   "cell_type": "markdown",
   "metadata": {},
   "source": [
    "### Select different types of data"
   ]
  },
  {
   "cell_type": "markdown",
   "metadata": {},
   "source": [
    "Identify attributes that correspond to different types:\n",
    "\n",
    "- log_transform attributes (numeric continuous attributes with skew_value >1.0  that need log transform)\n",
    "- binary_attributes\n",
    "- categorical_attributes (one hot encode required)\n",
    "- numeric_attributes (numeric interval data,  ordinal(make the simplifying assumption that the ordinal variables can be treated as being interval in nature)\n",
    "\n"
   ]
  },
  {
   "cell_type": "code",
   "execution_count": 7,
   "metadata": {},
   "outputs": [
    {
     "name": "stdout",
     "output_type": "stream",
     "text": [
      "Continuous attributes distribution ['ANZ_HAUSHALTE_AKTIV' 'ANZ_PERSONEN' 'EINGEZOGENAM_HH_JAHR'\n",
      " 'KBA13_ANZAHL_PKW' 'MIN_GEBAEUDEJAHR']\n",
      "ANZ_HAUSHALTE_AKTIV skew_value = 8.73402870740657.\n"
     ]
    },
    {
     "data": {
      "image/png": "[encoded data removed]",
      "text/plain": [
       "<Figure size 432x288 with 1 Axes>"
      ]
     },
     "metadata": {},
     "output_type": "display_data"
    },
    {
     "name": "stdout",
     "output_type": "stream",
     "text": [
      "ANZ_PERSONEN skew_value = 1.7651843121005266.\n"
     ]
    },
    {
     "data": {
      "image/png": "[encoded data removed]",
      "text/plain": [
       "<Figure size 432x288 with 1 Axes>"
      ]
     },
     "metadata": {},
     "output_type": "display_data"
    },
    {
     "name": "stdout",
     "output_type": "stream",
     "text": [
      "EINGEZOGENAM_HH_JAHR skew_value = 0.22025109510697183.\n"
     ]
    },
    {
     "data": {
      "image/png": "[encoded data removed]",
      "text/plain": [
       "<Figure size 432x288 with 1 Axes>"
      ]
     },
     "metadata": {},
     "output_type": "display_data"
    },
    {
     "name": "stdout",
     "output_type": "stream",
     "text": [
      "KBA13_ANZAHL_PKW skew_value = 1.265253431219012.\n"
     ]
    },
    {
     "data": {
      "image/png": "[encoded data removed]",
      "text/plain": [
       "<Figure size 432x288 with 1 Axes>"
      ]
     },
     "metadata": {},
     "output_type": "display_data"
    },
    {
     "name": "stdout",
     "output_type": "stream",
     "text": [
      "MIN_GEBAEUDEJAHR skew_value = 3.063678733216271.\n"
     ]
    },
    {
     "data": {
      "image/png": "[encoded data removed]",
      "text/plain": [
       "<Figure size 432x288 with 1 Axes>"
      ]
     },
     "metadata": {},
     "output_type": "display_data"
    },
    {
     "name": "stdout",
     "output_type": "stream",
     "text": [
      "Numerical attributes that need to be log transformed: \n",
      "['ANZ_HAUSHALTE_AKTIV', 'ANZ_PERSONEN', 'KBA13_ANZAHL_PKW', 'MIN_GEBAEUDEJAHR'].\n",
      "\n",
      "Binary attributes: \n",
      "['DSL_FLAG', 'GREEN_AVANTGARDE', 'HH_DELTA_FLAG', 'KBA05_SEG6', 'KONSUMZELLE', 'OST_WEST_KZ', 'SOHO_KZ', 'UNGLEICHENN_FLAG', 'VERS_TYP', 'ANREDE_KZ', 'MOVEMENT', 'RURAL_NEIGHBORHOOD', 'PLZ8_BAUMAX_BUSINESS'].\n",
      "\n",
      "Categorical attributes that need to be Re-Encoded: \n",
      "['AKT_DAT_KL', 'ARBEIT', 'CJT_GESAMTTYP', 'CJT_KATALOGNUTZER', 'D19_KONSUMTYP', 'FINANZTYP', 'GEBAEUDETYP_RASTER', 'GEMEINDETYP', 'GFK_URLAUBERTYP', 'HEALTH_TYP', 'KBA05_HERSTTEMP', 'KBA05_MAXHERST', 'KBA13_BAUMAX', 'MOBI_RASTER', 'RT_KEIN_ANREIZ', 'RT_SCHNAEPPCHEN', 'RT_UEBERGROESSE', 'SHOPPER_TYP', 'STRUKTURTYP', 'UMFELD_ALT', 'VHA', 'ZABEOTYP'].\n",
      "\n"
     ]
    }
   ],
   "source": [
    "log_attributes, bin_attributes, cat_attributes, num_attributes = etl.select_attributes_by_type(azdias_cleaned)\n",
    "\n",
    "print(\"Numerical attributes that need to be log transformed: \\n\"\n",
    "      \"{}.\".format(log_attributes))\n",
    "print(\"\")\n",
    "\n",
    "print(\"Binary attributes: \\n\"\n",
    "      \"{}.\".format(bin_attributes))\n",
    "print(\"\")\n",
    "\n",
    "print(\"Categorical attributes that need to be Re-Encoded: \\n\"\n",
    "      \"{}.\".format(cat_attributes))\n",
    "print(\"\")\n",
    "\n"
   ]
  },
  {
   "cell_type": "markdown",
   "metadata": {},
   "source": [
    "### ETL Pipeline ###\n",
    "- log_attributes: log -> impute median -> standard scaler\n",
    "- bin_attributes: impute most frequent\n",
    "- cat_attributes: dummies transformer (keep all dummy columns, missing values are zeros)\n",
    "- num_attributes: impute median -> standard scaler"
   ]
  },
  {
   "cell_type": "markdown",
   "metadata": {},
   "source": [
    "#### log_attributes pipeline ###"
   ]
  },
  {
   "cell_type": "code",
   "execution_count": 8,
   "metadata": {},
   "outputs": [],
   "source": [
    "log_transform = ('log_transform', FunctionTransformer(np.log1p, validate=False))\n",
    "log_impute = ('log_impute', SimpleImputer(missing_values=np.nan, strategy='median'))\n",
    "log_scale = ('log_scale', StandardScaler())\n",
    "\n",
    "log_pipeline = Pipeline([log_transform, log_impute, log_scale])\n"
   ]
  },
  {
   "cell_type": "markdown",
   "metadata": {},
   "source": [
    "####  Binary attributes pipeline ###"
   ]
  },
  {
   "cell_type": "code",
   "execution_count": 9,
   "metadata": {},
   "outputs": [],
   "source": [
    "binary_pipeline = Pipeline([('binary_impute', SimpleImputer(missing_values=np.nan, strategy='most_frequent'))])"
   ]
  },
  {
   "cell_type": "markdown",
   "metadata": {},
   "source": [
    "#### Categorical attributes pipeline ###"
   ]
  },
  {
   "cell_type": "code",
   "execution_count": 10,
   "metadata": {},
   "outputs": [],
   "source": [
    "cat_pipeline = Pipeline([('cat_dummy', etl.DummiesTransformer())])"
   ]
  },
  {
   "cell_type": "markdown",
   "metadata": {},
   "source": [
    "#### Numerical Attributes Pipeline ###"
   ]
  },
  {
   "cell_type": "code",
   "execution_count": 11,
   "metadata": {},
   "outputs": [],
   "source": [
    "num_impute = ('num_impute', SimpleImputer(missing_values=np.nan, strategy='median'))\n",
    "num_scale = ('num_scale', StandardScaler())\n",
    "\n",
    "num_pipeline = Pipeline([num_impute, num_scale])"
   ]
  },
  {
   "cell_type": "markdown",
   "metadata": {},
   "source": [
    "#### Combining all column transformations"
   ]
  },
  {
   "cell_type": "code",
   "execution_count": 12,
   "metadata": {},
   "outputs": [
    {
     "data": {
      "text/plain": [
       "(737235, 410)"
      ]
     },
     "execution_count": 12,
     "metadata": {},
     "output_type": "execute_result"
    }
   ],
   "source": [
    "transformers = [('log', log_pipeline, log_attributes),\n",
    "                ('binary', binary_pipeline, bin_attributes),\n",
    "                ('cat', cat_pipeline, cat_attributes),\n",
    "                ('num', num_pipeline, num_attributes)]\n",
    "\n",
    "ct = ColumnTransformer(transformers=transformers)\n",
    "\n",
    "azdias_transformed = ct.fit_transform(azdias_cleaned)\n",
    "azdias_transformed.shape"
   ]
  },
  {
   "cell_type": "code",
   "execution_count": 14,
   "metadata": {},
   "outputs": [],
   "source": [
    "#obtain dummies column names\n",
    "pl = ct.named_transformers_['cat']\n",
    "cd = pl.named_steps['cat_dummy']\n",
    "dummies_names = list(cd.get_feature_names())\n",
    "\n",
    "#all columns for transformed data\n",
    "column_names = list(log_attributes)+list(bin_attributes)+dummies_names+list(num_attributes)\n",
    "\n",
    "#create transformed DataFrame\n",
    "azdias_transformed = pd.DataFrame(azdias_transformed, columns = column_names)"
   ]
  },
  {
   "cell_type": "code",
   "execution_count": 16,
   "metadata": {},
   "outputs": [
    {
     "name": "stdout",
     "output_type": "stream",
     "text": [
      "All columns are numeric = True\n"
     ]
    },
    {
     "data": {
      "text/html": [
       "<div>\n",
       "<style scoped>\n",
       "    .dataframe tbody tr th:only-of-type {\n",
       "        vertical-align: middle;\n",
       "    }\n",
       "\n",
       "    .dataframe tbody tr th {\n",
       "        vertical-align: top;\n",
       "    }\n",
       "\n",
       "    .dataframe thead th {\n",
       "        text-align: right;\n",
       "    }\n",
       "</style>\n",
       "<table border=\"1\" class=\"dataframe\">\n",
       "  <thead>\n",
       "    <tr style=\"text-align: right;\">\n",
       "      <th></th>\n",
       "      <th>ANZ_HAUSHALTE_AKTIV</th>\n",
       "      <th>ANZ_PERSONEN</th>\n",
       "      <th>KBA13_ANZAHL_PKW</th>\n",
       "      <th>MIN_GEBAEUDEJAHR</th>\n",
       "      <th>DSL_FLAG</th>\n",
       "      <th>GREEN_AVANTGARDE</th>\n",
       "      <th>HH_DELTA_FLAG</th>\n",
       "      <th>KBA05_SEG6</th>\n",
       "      <th>KONSUMZELLE</th>\n",
       "      <th>OST_WEST_KZ</th>\n",
       "      <th>...</th>\n",
       "      <th>SEMIO_VERT</th>\n",
       "      <th>UMFELD_JUNG</th>\n",
       "      <th>VHN</th>\n",
       "      <th>W_KEIT_KIND_HH</th>\n",
       "      <th>WOHNDAUER_2008</th>\n",
       "      <th>ALTERSKATEGORIE_GROB</th>\n",
       "      <th>GENERATION_DECADE</th>\n",
       "      <th>WEALTH</th>\n",
       "      <th>LIFE_AGE</th>\n",
       "      <th>PLZ8_BAUMAX_FAMILY</th>\n",
       "    </tr>\n",
       "  </thead>\n",
       "  <tbody>\n",
       "    <tr>\n",
       "      <th>count</th>\n",
       "      <td>7.372350e+05</td>\n",
       "      <td>7.372350e+05</td>\n",
       "      <td>7.372350e+05</td>\n",
       "      <td>7.372350e+05</td>\n",
       "      <td>737235.000000</td>\n",
       "      <td>737235.000000</td>\n",
       "      <td>737235.00000</td>\n",
       "      <td>737235.000000</td>\n",
       "      <td>737235.000000</td>\n",
       "      <td>737235.000000</td>\n",
       "      <td>...</td>\n",
       "      <td>7.372350e+05</td>\n",
       "      <td>7.372350e+05</td>\n",
       "      <td>7.372350e+05</td>\n",
       "      <td>7.372350e+05</td>\n",
       "      <td>7.372350e+05</td>\n",
       "      <td>7.372350e+05</td>\n",
       "      <td>7.372350e+05</td>\n",
       "      <td>7.372350e+05</td>\n",
       "      <td>7.372350e+05</td>\n",
       "      <td>7.372350e+05</td>\n",
       "    </tr>\n",
       "    <tr>\n",
       "      <th>mean</th>\n",
       "      <td>-1.177310e-15</td>\n",
       "      <td>-1.603202e-16</td>\n",
       "      <td>-2.773428e-15</td>\n",
       "      <td>1.671020e-12</td>\n",
       "      <td>0.989195</td>\n",
       "      <td>0.223602</td>\n",
       "      <td>0.09074</td>\n",
       "      <td>0.118951</td>\n",
       "      <td>0.236927</td>\n",
       "      <td>0.789763</td>\n",
       "      <td>...</td>\n",
       "      <td>-2.291807e-15</td>\n",
       "      <td>-3.215782e-15</td>\n",
       "      <td>6.465103e-15</td>\n",
       "      <td>1.796641e-14</td>\n",
       "      <td>-3.260760e-15</td>\n",
       "      <td>6.080414e-16</td>\n",
       "      <td>1.900087e-15</td>\n",
       "      <td>1.007804e-14</td>\n",
       "      <td>-1.741958e-15</td>\n",
       "      <td>1.050926e-14</td>\n",
       "    </tr>\n",
       "    <tr>\n",
       "      <th>std</th>\n",
       "      <td>1.000001e+00</td>\n",
       "      <td>1.000001e+00</td>\n",
       "      <td>1.000001e+00</td>\n",
       "      <td>1.000001e+00</td>\n",
       "      <td>0.103385</td>\n",
       "      <td>0.416658</td>\n",
       "      <td>0.28724</td>\n",
       "      <td>0.323731</td>\n",
       "      <td>0.425198</td>\n",
       "      <td>0.407477</td>\n",
       "      <td>...</td>\n",
       "      <td>1.000001e+00</td>\n",
       "      <td>1.000001e+00</td>\n",
       "      <td>1.000001e+00</td>\n",
       "      <td>1.000001e+00</td>\n",
       "      <td>1.000001e+00</td>\n",
       "      <td>1.000001e+00</td>\n",
       "      <td>1.000001e+00</td>\n",
       "      <td>1.000001e+00</td>\n",
       "      <td>1.000001e+00</td>\n",
       "      <td>1.000001e+00</td>\n",
       "    </tr>\n",
       "    <tr>\n",
       "      <th>min</th>\n",
       "      <td>-1.896013e+00</td>\n",
       "      <td>-2.412959e+00</td>\n",
       "      <td>-1.112358e+01</td>\n",
       "      <td>-4.248870e+00</td>\n",
       "      <td>0.000000</td>\n",
       "      <td>0.000000</td>\n",
       "      <td>0.00000</td>\n",
       "      <td>0.000000</td>\n",
       "      <td>0.000000</td>\n",
       "      <td>0.000000</td>\n",
       "      <td>...</td>\n",
       "      <td>-1.679638e+00</td>\n",
       "      <td>-2.711424e+00</td>\n",
       "      <td>-2.085911e+00</td>\n",
       "      <td>-1.865133e+00</td>\n",
       "      <td>-3.687983e+00</td>\n",
       "      <td>-1.682068e+00</td>\n",
       "      <td>-2.292298e+00</td>\n",
       "      <td>-1.560679e+00</td>\n",
       "      <td>-1.258111e+00</td>\n",
       "      <td>-1.294381e+00</td>\n",
       "    </tr>\n",
       "    <tr>\n",
       "      <th>25%</th>\n",
       "      <td>-6.831911e-01</td>\n",
       "      <td>-6.150039e-01</td>\n",
       "      <td>-5.807664e-01</td>\n",
       "      <td>-3.893518e-01</td>\n",
       "      <td>1.000000</td>\n",
       "      <td>0.000000</td>\n",
       "      <td>0.00000</td>\n",
       "      <td>0.000000</td>\n",
       "      <td>0.000000</td>\n",
       "      <td>1.000000</td>\n",
       "      <td>...</td>\n",
       "      <td>-1.161781e+00</td>\n",
       "      <td>-9.086758e-01</td>\n",
       "      <td>-3.550289e-01</td>\n",
       "      <td>-6.892201e-01</td>\n",
       "      <td>1.831876e-02</td>\n",
       "      <td>-7.570140e-01</td>\n",
       "      <td>-9.038994e-01</td>\n",
       "      <td>-8.770721e-01</td>\n",
       "      <td>-1.258111e+00</td>\n",
       "      <td>-3.156559e-01</td>\n",
       "    </tr>\n",
       "    <tr>\n",
       "      <th>50%</th>\n",
       "      <td>-1.192610e-01</td>\n",
       "      <td>-6.150039e-01</td>\n",
       "      <td>4.765952e-02</td>\n",
       "      <td>-3.893518e-01</td>\n",
       "      <td>1.000000</td>\n",
       "      <td>0.000000</td>\n",
       "      <td>0.00000</td>\n",
       "      <td>0.000000</td>\n",
       "      <td>0.000000</td>\n",
       "      <td>1.000000</td>\n",
       "      <td>...</td>\n",
       "      <td>3.917930e-01</td>\n",
       "      <td>-7.301616e-03</td>\n",
       "      <td>-3.550289e-01</td>\n",
       "      <td>-1.012637e-01</td>\n",
       "      <td>5.477904e-01</td>\n",
       "      <td>1.680402e-01</td>\n",
       "      <td>-2.097000e-01</td>\n",
       "      <td>4.901421e-01</td>\n",
       "      <td>8.779949e-02</td>\n",
       "      <td>-3.156559e-01</td>\n",
       "    </tr>\n",
       "    <tr>\n",
       "      <th>75%</th>\n",
       "      <td>6.459444e-01</td>\n",
       "      <td>4.367321e-01</td>\n",
       "      <td>6.604993e-01</td>\n",
       "      <td>-3.893518e-01</td>\n",
       "      <td>1.000000</td>\n",
       "      <td>0.000000</td>\n",
       "      <td>0.00000</td>\n",
       "      <td>0.000000</td>\n",
       "      <td>0.000000</td>\n",
       "      <td>1.000000</td>\n",
       "      <td>...</td>\n",
       "      <td>9.096508e-01</td>\n",
       "      <td>8.940726e-01</td>\n",
       "      <td>5.104123e-01</td>\n",
       "      <td>1.074649e+00</td>\n",
       "      <td>5.477904e-01</td>\n",
       "      <td>1.093094e+00</td>\n",
       "      <td>1.178699e+00</td>\n",
       "      <td>1.173749e+00</td>\n",
       "      <td>7.607546e-01</td>\n",
       "      <td>-3.156559e-01</td>\n",
       "    </tr>\n",
       "    <tr>\n",
       "      <th>max</th>\n",
       "      <td>5.043465e+00</td>\n",
       "      <td>7.089955e+00</td>\n",
       "      <td>2.585413e+00</td>\n",
       "      <td>6.742495e+00</td>\n",
       "      <td>1.000000</td>\n",
       "      <td>1.000000</td>\n",
       "      <td>1.00000</td>\n",
       "      <td>1.000000</td>\n",
       "      <td>1.000000</td>\n",
       "      <td>1.000000</td>\n",
       "      <td>...</td>\n",
       "      <td>1.427509e+00</td>\n",
       "      <td>8.940726e-01</td>\n",
       "      <td>1.375854e+00</td>\n",
       "      <td>1.074649e+00</td>\n",
       "      <td>5.477904e-01</td>\n",
       "      <td>5.718365e+00</td>\n",
       "      <td>1.178699e+00</td>\n",
       "      <td>1.173749e+00</td>\n",
       "      <td>1.433710e+00</td>\n",
       "      <td>2.620521e+00</td>\n",
       "    </tr>\n",
       "  </tbody>\n",
       "</table>\n",
       "<p>8 rows × 410 columns</p>\n",
       "</div>"
      ],
      "text/plain": [
       "       ANZ_HAUSHALTE_AKTIV  ANZ_PERSONEN  KBA13_ANZAHL_PKW  MIN_GEBAEUDEJAHR  \\\n",
       "count         7.372350e+05  7.372350e+05      7.372350e+05      7.372350e+05   \n",
       "mean         -1.177310e-15 -1.603202e-16     -2.773428e-15      1.671020e-12   \n",
       "std           1.000001e+00  1.000001e+00      1.000001e+00      1.000001e+00   \n",
       "min          -1.896013e+00 -2.412959e+00     -1.112358e+01     -4.248870e+00   \n",
       "25%          -6.831911e-01 -6.150039e-01     -5.807664e-01     -3.893518e-01   \n",
       "50%          -1.192610e-01 -6.150039e-01      4.765952e-02     -3.893518e-01   \n",
       "75%           6.459444e-01  4.367321e-01      6.604993e-01     -3.893518e-01   \n",
       "max           5.043465e+00  7.089955e+00      2.585413e+00      6.742495e+00   \n",
       "\n",
       "            DSL_FLAG  GREEN_AVANTGARDE  HH_DELTA_FLAG     KBA05_SEG6  \\\n",
       "count  737235.000000     737235.000000   737235.00000  737235.000000   \n",
       "mean        0.989195          0.223602        0.09074       0.118951   \n",
       "std         0.103385          0.416658        0.28724       0.323731   \n",
       "min         0.000000          0.000000        0.00000       0.000000   \n",
       "25%         1.000000          0.000000        0.00000       0.000000   \n",
       "50%         1.000000          0.000000        0.00000       0.000000   \n",
       "75%         1.000000          0.000000        0.00000       0.000000   \n",
       "max         1.000000          1.000000        1.00000       1.000000   \n",
       "\n",
       "         KONSUMZELLE    OST_WEST_KZ         ...            SEMIO_VERT  \\\n",
       "count  737235.000000  737235.000000         ...          7.372350e+05   \n",
       "mean        0.236927       0.789763         ...         -2.291807e-15   \n",
       "std         0.425198       0.407477         ...          1.000001e+00   \n",
       "min         0.000000       0.000000         ...         -1.679638e+00   \n",
       "25%         0.000000       1.000000         ...         -1.161781e+00   \n",
       "50%         0.000000       1.000000         ...          3.917930e-01   \n",
       "75%         0.000000       1.000000         ...          9.096508e-01   \n",
       "max         1.000000       1.000000         ...          1.427509e+00   \n",
       "\n",
       "        UMFELD_JUNG           VHN  W_KEIT_KIND_HH  WOHNDAUER_2008  \\\n",
       "count  7.372350e+05  7.372350e+05    7.372350e+05    7.372350e+05   \n",
       "mean  -3.215782e-15  6.465103e-15    1.796641e-14   -3.260760e-15   \n",
       "std    1.000001e+00  1.000001e+00    1.000001e+00    1.000001e+00   \n",
       "min   -2.711424e+00 -2.085911e+00   -1.865133e+00   -3.687983e+00   \n",
       "25%   -9.086758e-01 -3.550289e-01   -6.892201e-01    1.831876e-02   \n",
       "50%   -7.301616e-03 -3.550289e-01   -1.012637e-01    5.477904e-01   \n",
       "75%    8.940726e-01  5.104123e-01    1.074649e+00    5.477904e-01   \n",
       "max    8.940726e-01  1.375854e+00    1.074649e+00    5.477904e-01   \n",
       "\n",
       "       ALTERSKATEGORIE_GROB  GENERATION_DECADE        WEALTH      LIFE_AGE  \\\n",
       "count          7.372350e+05       7.372350e+05  7.372350e+05  7.372350e+05   \n",
       "mean           6.080414e-16       1.900087e-15  1.007804e-14 -1.741958e-15   \n",
       "std            1.000001e+00       1.000001e+00  1.000001e+00  1.000001e+00   \n",
       "min           -1.682068e+00      -2.292298e+00 -1.560679e+00 -1.258111e+00   \n",
       "25%           -7.570140e-01      -9.038994e-01 -8.770721e-01 -1.258111e+00   \n",
       "50%            1.680402e-01      -2.097000e-01  4.901421e-01  8.779949e-02   \n",
       "75%            1.093094e+00       1.178699e+00  1.173749e+00  7.607546e-01   \n",
       "max            5.718365e+00       1.178699e+00  1.173749e+00  1.433710e+00   \n",
       "\n",
       "       PLZ8_BAUMAX_FAMILY  \n",
       "count        7.372350e+05  \n",
       "mean         1.050926e-14  \n",
       "std          1.000001e+00  \n",
       "min         -1.294381e+00  \n",
       "25%         -3.156559e-01  \n",
       "50%         -3.156559e-01  \n",
       "75%         -3.156559e-01  \n",
       "max          2.620521e+00  \n",
       "\n",
       "[8 rows x 410 columns]"
      ]
     },
     "execution_count": 16,
     "metadata": {},
     "output_type": "execute_result"
    }
   ],
   "source": [
    "print(\"All columns are numeric = {}\".format(etl.check_columns_numeric(azdias_transformed)))\n",
    "azdias_transformed.describe()"
   ]
  },
  {
   "cell_type": "markdown",
   "metadata": {},
   "source": [
    "### Check outliers in numerical and log transformed attributes###\n",
    "Use Tukey rule to detect and remove outliers outside of the InterQuartile range (IQR): IQR = Q3 - Q1"
   ]
  },
  {
   "cell_type": "code",
   "execution_count": 45,
   "metadata": {},
   "outputs": [
    {
     "name": "stdout",
     "output_type": "stream",
     "text": [
      "(737235, 410)\n",
      " \n"
     ]
    },
    {
     "data": {
      "text/plain": [
       "{'ANZ_HAUSHALTE_AKTIV': 9232,\n",
       " 'ANZ_PERSONEN': 50952,\n",
       " 'KBA13_ANZAHL_PKW': 11606,\n",
       " 'MIN_GEBAEUDEJAHR': 164818}"
      ]
     },
     "execution_count": 45,
     "metadata": {},
     "output_type": "execute_result"
    }
   ],
   "source": [
    "#new data frame without outliers\n",
    "azdias_outlier_removed = azdias_transformed.copy()\n",
    "\n",
    "outlier_attributes = log_attributes#np.append(log_attributes, num_attributes) \n",
    "\n",
    "#dictionary of number of outlier by column_name\n",
    "outlier_attributes_dict = {}\n",
    "#print(azdias_outlier_removed.shape)\n",
    "\n",
    "for column in outlier_attributes:\n",
    "    previous_len = azdias_outlier_removed.shape[0]\n",
    "    azdias_outlier_removed = etl.tukey_rule(azdias_outlier_removed, column)\n",
    "    outlier_attributes_dict[column] = previous_len - azdias_outlier_removed.shape[0] \n",
    "    #print(azdias_outlier_removed.shape)\n",
    "    \n",
    "outlier_attributes_dict"
   ]
  },
  {
   "cell_type": "markdown",
   "metadata": {},
   "source": [
    "There are too many outlier. These outliers will be kept, otherwise more than 30% of data will be lost."
   ]
  },
  {
   "cell_type": "markdown",
   "metadata": {},
   "source": [
    "## Part 1: Customer Segmentation Report\n",
    "\n",
    "The main bulk of your analysis will come in this part of the project. Here, you should use unsupervised learning techniques to describe the relationship between the demographics of the company's existing customers and the general population of Germany. By the end of this part, you should be able to describe parts of the general population that are more likely to be part of the mail-order company's main customer base, and which parts of the general population are less so."
   ]
  },
  {
   "cell_type": "markdown",
   "metadata": {},
   "source": [
    "### PCA "
   ]
  },
  {
   "cell_type": "code",
   "execution_count": 46,
   "metadata": {},
   "outputs": [
    {
     "name": "stdout",
     "output_type": "stream",
     "text": [
      "Current number of features:  410\n"
     ]
    }
   ],
   "source": [
    "# Apply PCA to the data.\n",
    "print(\"Current number of features: \", azdias_transformed.shape[1])\n",
    "pca = PCA()\n",
    "azdias_pca = pca.fit_transform(azdias_transformed)\n",
    "#sum(pca.explained_variance_ratio_)\n",
    "etl.scree_plot(pca)"
   ]
  },
  {
   "cell_type": "markdown",
   "metadata": {},
   "source": [
    "There is a visual reduction in explained variance after ~225 principal components"
   ]
  },
  {
   "cell_type": "code",
   "execution_count": 72,
   "metadata": {},
   "outputs": [
    {
     "name": "stdout",
     "output_type": "stream",
     "text": [
      "Explained variance ratio for the first 175 components is 91.86718963614973%.\n"
     ]
    }
   ],
   "source": [
    "n_components = 175\n",
    "print(\"Explained variance ratio for the first {} components is {}%.\".\n",
    "      format(n_components, sum(pca.explained_variance_ratio_[:n_components]).round(2)*100))"
   ]
  },
  {
   "cell_type": "code",
   "execution_count": 73,
   "metadata": {},
   "outputs": [
    {
     "name": "stdout",
     "output_type": "stream",
     "text": [
      "Explained variance ratio: 0.9177267672581478\n",
      "(737235, 175)\n"
     ]
    }
   ],
   "source": [
    "pca = PCA(n_components)\n",
    "azdias_pca = pca.fit_transform(azdias_transformed)\n",
    "explained_var_ratio = sum(pca.explained_variance_ratio_)\n",
    "print(\"Explained variance ratio:\", explained_var_ratio)\n",
    "\n",
    "print(azdias_pca.shape)\n",
    "\n"
   ]
  },
  {
   "cell_type": "code",
   "execution_count": 74,
   "metadata": {},
   "outputs": [
    {
     "data": {
      "image/png": "[encoded data removed]",
      "text/plain": [
       "<Figure size 1080x432 with 1 Axes>"
      ]
     },
     "metadata": {},
     "output_type": "display_data"
    }
   ],
   "source": [
    "etl.scree_plot(pca)"
   ]
  },
  {
   "cell_type": "code",
   "execution_count": 54,
   "metadata": {},
   "outputs": [
    {
     "name": "stdout",
     "output_type": "stream",
     "text": [
      "Variance of first component: 7.0\n",
      "                            weight\n",
      "ANZ_HAUSHALTE_AKTIV           0.14\n",
      "CAMEO_DEUG_2015               0.14\n",
      "HH_EINKOMMEN_SCORE            0.14\n",
      "KBA13_ANTG3                   0.14\n",
      "KBA13_ANTG4                   0.14\n",
      "ORTSGR_KLS9                   0.11\n",
      "EWDICHTE                      0.11\n",
      "FINANZ_HAUSBAUER              0.11\n",
      "WEALTH                        0.10\n",
      "KBA13_HALTER_30               0.10\n",
      "KBA05_ANTG4                   0.09\n",
      "KBA13_BAUMAX_5.0              0.09\n",
      "KBA05_ANTG3                   0.09\n",
      "KBA13_HALTER_35               0.09\n",
      "ARBEIT_4.0                    0.08\n",
      "PLZ8_BAUMAX_BUSINESS          0.08\n",
      "RELAT_AB                      0.08\n",
      "ANZ_STATISTISCHE_HAUSHALTE    0.08\n",
      "CJT_TYP_2                     0.08\n",
      "D19_KONSUMTYP_MAX             0.08\n",
      "KBA13_ALTERHALTER_30          0.08\n",
      "STRUKTURTYP_3.0               0.08\n",
      "D19_GESAMT_DATUM              0.08\n",
      "KONSUMZELLE                   0.08\n",
      "D19_VERSAND_DATUM             0.07\n",
      "FINANZ_SPARER                 0.07\n",
      "KBA13_ANTG2                   0.07\n",
      "D19_GESAMT_ONLINE_DATUM       0.07\n",
      "D19_VERSAND_ONLINE_DATUM      0.07\n",
      "KBA13_BJ_2000                 0.07\n",
      "...                            ...\n",
      "CJT_TYP_5                    -0.07\n",
      "D19_GESAMT_ANZ_12            -0.07\n",
      "KBA13_SITZE_6                -0.07\n",
      "KBA13_SEG_VAN                -0.07\n",
      "D19_GESAMT_ANZ_24            -0.07\n",
      "KBA13_SEG_GROSSRAUMVANS      -0.08\n",
      "KBA05_MOTRAD                 -0.08\n",
      "FIRMENDICHTE                 -0.08\n",
      "RURAL_NEIGHBORHOOD           -0.08\n",
      "GREEN_AVANTGARDE             -0.08\n",
      "MOVEMENT                     -0.08\n",
      "KBA13_KRSAQUOT               -0.08\n",
      "KBA13_HALTER_50              -0.09\n",
      "KBA13_SEG_GELAENDEWAGEN      -0.09\n",
      "KBA05_KRSAQUOT               -0.09\n",
      "KBA13_HALTER_55              -0.09\n",
      "INNENSTADT                   -0.10\n",
      "KONSUMNAEHE                  -0.10\n",
      "KBA13_ALTERHALTER_60         -0.10\n",
      "KBA05_ANHANG                 -0.10\n",
      "PLZ8_GBZ                     -0.11\n",
      "KBA13_GBZ                    -0.11\n",
      "FINANZ_MINIMALIST            -0.12\n",
      "KBA13_AUTOQUOTE              -0.13\n",
      "KBA05_GBZ                    -0.13\n",
      "KBA05_AUTOQUOT               -0.14\n",
      "LP_STATUS_GROB               -0.14\n",
      "KBA05_ANTG1                  -0.14\n",
      "KBA13_ANTG1                  -0.14\n",
      "MOBI_REGIO                   -0.15\n",
      "\n",
      "[389 rows x 1 columns]\n"
     ]
    }
   ],
   "source": [
    "# Map weights for the first principal component to corresponding feature names\n",
    "# and then print the linked values, sorted by weight.\n",
    "def map_component_to_features(component):\n",
    "    '''\n",
    "    Map weights for the component number to corresponding feature names\n",
    "    '''\n",
    "    #print(pd.DataFrame(pca.components_[1]**2*100,index=azdias_test_cleaned.columns,columns=['w']).sort_values(by='w',ascending=False).round(2))\n",
    "    #return pd.DataFrame(pca.components_[component]**2*100,index=azdias_cleaned.columns,columns=['weight']).sort_values(by='weight',ascending=False).round(2)\n",
    "    return pd.DataFrame(pca.components_[component],index=azdias_cleaned.columns,columns=['weight']).sort_values(by='weight',ascending=False).round(2)\n",
    "\n",
    "print(\"Variance of first component:\", pca.explained_variance_ratio_[0].round(2)*100)\n",
    "print(map_component_to_features(0))\n",
    "\n",
    "#The most prominent features are ANZ_HAUSHALTE_AKTIV.0, CAMEO_DEUG_2015, HH_EINKOMMEN_SCORE, KBA13_ANTG3-4  \n",
    "#The most prominent negative features are MOBI_REGIO, KBA13_ANTG1, KBA05_ANTG1\n",
    "# So, the first principal component is associated with size, wealth and type of family, larger family, \n",
    "# higher component corresponds to working class, larger  family and also poorer family, \n",
    "#From negative values: higher magnitide of component, lower financial interest\n"
   ]
  },
  {
   "cell_type": "code",
   "execution_count": 55,
   "metadata": {},
   "outputs": [
    {
     "name": "stdout",
     "output_type": "stream",
     "text": [
      "Variance of second component: 5.0\n",
      "                             weight\n",
      "GENERATION_DECADE              0.20\n",
      "CJT_TYP_1                      0.18\n",
      "CJT_TYP_2                      0.18\n",
      "FINANZ_SPARER                  0.18\n",
      "FINANZ_UNAUFFAELLIGER          0.16\n",
      "ONLINE_AFFINITAET              0.16\n",
      "GEBURTSJAHR                    0.15\n",
      "SEMIO_PFLICHT                  0.15\n",
      "SEMIO_TRADV                    0.15\n",
      "FINANZ_ANLEGER                 0.15\n",
      "SEMIO_REL                      0.14\n",
      "SEMIO_RAT                      0.13\n",
      "D19_GESAMT_ANZ_24              0.12\n",
      "D19_GESAMT_ANZ_12              0.11\n",
      "RT_KEIN_ANREIZ_5.0             0.11\n",
      "D19_GESAMT_ONLINE_QUOTE_12     0.10\n",
      "D19_VERSAND_ANZ_24             0.10\n",
      "D19_VERSAND_ONLINE_QUOTE_12    0.10\n",
      "ZABEOTYP_4                     0.10\n",
      "SEMIO_KULT                     0.10\n",
      "D19_VERSAND_ANZ_12             0.10\n",
      "SEMIO_MAT                      0.09\n",
      "EINGEZOGENAM_HH_JAHR           0.08\n",
      "SEMIO_FAM                      0.07\n",
      "D19_BANKEN_ANZ_24              0.07\n",
      "RT_UEBERGROESSE_4.0            0.07\n",
      "ZABEOTYP_5                     0.07\n",
      "D19_BANKEN_ANZ_12              0.06\n",
      "FINANZTYP_4                    0.06\n",
      "D19_BANKEN_ONLINE_QUOTE_12     0.06\n",
      "...                             ...\n",
      "D19_KONSUMTYP_9.0             -0.06\n",
      "D19_VERSI_DATUM               -0.06\n",
      "WOHNDAUER_2008                -0.06\n",
      "FINANZTYP_5                   -0.07\n",
      "RT_KEIN_ANREIZ_2.0            -0.07\n",
      "D19_TELKO_DATUM               -0.07\n",
      "D19_KONSUMTYP_MAX             -0.08\n",
      "FINANZTYP_2                   -0.08\n",
      "D19_BANKEN_ONLINE_DATUM       -0.08\n",
      "D19_BANKEN_DATUM              -0.09\n",
      "FINANZ_MINIMALIST             -0.09\n",
      "CJT_GESAMTTYP_2.0             -0.10\n",
      "D19_VERSAND_DATUM             -0.10\n",
      "D19_GESAMT_DATUM              -0.10\n",
      "W_KEIT_KIND_HH                -0.11\n",
      "D19_VERSAND_ONLINE_DATUM      -0.11\n",
      "SEMIO_ERL                     -0.11\n",
      "D19_GESAMT_ONLINE_DATUM       -0.11\n",
      "SEMIO_LUST                    -0.12\n",
      "RETOURTYP_BK_S                -0.12\n",
      "RT_UEBERGROESSE_1.0           -0.12\n",
      "CJT_KATALOGNUTZER_5.0         -0.14\n",
      "ZABEOTYP_3                    -0.15\n",
      "CJT_TYP_6                     -0.16\n",
      "CJT_TYP_3                     -0.16\n",
      "ALTERSKATEGORIE_GROB          -0.16\n",
      "CJT_TYP_4                     -0.17\n",
      "CJT_TYP_5                     -0.17\n",
      "FINANZ_VORSORGER              -0.17\n",
      "KOMBIALTER                    -0.19\n",
      "\n",
      "[389 rows x 1 columns]\n"
     ]
    }
   ],
   "source": [
    "# Map weights for the second principal component to corresponding feature names\n",
    "# and then print the linked values, sorted by weight.\n",
    "\n",
    "print(\"Variance of second component:\", pca.explained_variance_ratio_[1].round(2)*100)\n",
    "print(map_component_to_features(1))\n",
    "\n",
    "#The most prominent features are ALTERSKATEGORIE_GROB, FINANZ_VORSORGER, ZABEOTYP_3\n",
    "#The most prominent negative features are GENERATION_DECADE, FINANZ_SPARER\n",
    "# So, the second principal component is associated with age. Older people has higher component value\n",
    "#From negative values: higher component has lower generation decade (which is similarly to higher age)\n",
    "#and higher probability of people being money savers "
   ]
  },
  {
   "cell_type": "code",
   "execution_count": 56,
   "metadata": {},
   "outputs": [
    {
     "name": "stdout",
     "output_type": "stream",
     "text": [
      "Variance of third component: 5.0\n",
      "                             weight\n",
      "KBA13_HERST_BMW_BENZ           0.18\n",
      "KBA13_SEG_OBEREMITTELKLASSE    0.16\n",
      "KBA13_MERCEDES                 0.15\n",
      "KBA13_BMW                      0.15\n",
      "KBA13_SITZE_4                  0.15\n",
      "KBA13_SEG_SPORTWAGEN           0.14\n",
      "KBA13_KMH_211                  0.12\n",
      "KBA13_SEG_OBERKLASSE           0.12\n",
      "KBA05_HERST1                   0.12\n",
      "KBA13_KMH_250                  0.12\n",
      "KBA13_KW_121                   0.12\n",
      "EWDICHTE                       0.12\n",
      "KBA13_CCM_2501                 0.12\n",
      "KBA05_KW3                      0.11\n",
      "KBA13_CCM_3000                 0.11\n",
      "KBA13_KRSHERST_BMW_BENZ        0.10\n",
      "ORTSGR_KLS9                    0.10\n",
      "KBA13_CCM_3001                 0.10\n",
      "KBA05_MOTOR                    0.10\n",
      "OST_WEST_KZ                    0.10\n",
      "STRUKTURTYP_3.0                0.10\n",
      "KBA05_CCM4                     0.10\n",
      "KBA05_MOD1                     0.10\n",
      "KBA13_HALTER_65                0.10\n",
      "KBA05_SEG5                     0.09\n",
      "KBA13_CCM_2500                 0.08\n",
      "KBA13_ALTERHALTER_61           0.08\n",
      "KBA05_SEG8                     0.08\n",
      "KONSUMZELLE                    0.08\n",
      "KBA05_CCM3                     0.07\n",
      "...                             ...\n",
      "KBA05_HERSTTEMP_3.0           -0.07\n",
      "KBA13_ALTERHALTER_30          -0.08\n",
      "KBA05_CCM1                    -0.08\n",
      "KBA13_FORD                    -0.08\n",
      "KBA13_HALTER_60               -0.08\n",
      "RURAL_NEIGHBORHOOD            -0.08\n",
      "KBA13_CCM_1400                -0.08\n",
      "INNENSTADT                    -0.08\n",
      "KBA05_KW1                     -0.08\n",
      "KKK                           -0.09\n",
      "KBA13_KRSHERST_FORD_OPEL      -0.09\n",
      "KBA13_OPEL                    -0.09\n",
      "KBA13_SEG_KLEINST             -0.09\n",
      "KBA13_HALTER_55               -0.09\n",
      "BALLRAUM                      -0.09\n",
      "KBA13_HALTER_50               -0.10\n",
      "KBA13_FAB_ASIEN               -0.10\n",
      "FIRMENDICHTE                  -0.10\n",
      "KONSUMNAEHE                   -0.10\n",
      "KBA13_HERST_ASIEN             -0.10\n",
      "KBA13_KW_0_60                 -0.10\n",
      "KBA13_HERST_FORD_OPEL         -0.11\n",
      "KBA13_SEG_KOMPAKTKLASSE       -0.11\n",
      "KBA13_ALTERHALTER_60          -0.11\n",
      "KBA13_KMH_180                 -0.11\n",
      "KBA13_HALTER_25               -0.12\n",
      "KBA13_HALTER_20               -0.12\n",
      "KBA13_SEG_KLEINWAGEN          -0.13\n",
      "KBA13_KMH_140_210             -0.13\n",
      "KBA13_SITZE_5                 -0.15\n",
      "\n",
      "[389 rows x 1 columns]\n"
     ]
    }
   ],
   "source": [
    "# Map weights for the third principal component to corresponding feature names\n",
    "# and then print the linked values, sorted by weight.\n",
    "\n",
    "print(\"Variance of third component:\", pca.explained_variance_ratio_[2].round(2)*100)\n",
    "print(map_component_to_features(2))\n",
    "\n",
    "\n",
    "#The most prominent features are SEMIO_VERT, SEMIO_FAM, SEMIO_SOZ, SEMIO_KULT\n",
    "#The most prominent negative features are ANREDE_KZ, SEMIO_KAEM, SEMIO_DOM\n",
    "# So, the third component is associated with gender and type of personality, more dreamful and family oriented people \n",
    "# has higher component value\n",
    "#From negative values: higher magnitude of the component the higher probability of people being male with combative attitude\n"
   ]
  },
  {
   "cell_type": "markdown",
   "metadata": {},
   "source": [
    "### Clustering"
   ]
  },
  {
   "cell_type": "code",
   "execution_count": 75,
   "metadata": {},
   "outputs": [
    {
     "name": "stdout",
     "output_type": "stream",
     "text": [
      "1\n",
      "3\n",
      "5\n",
      "7\n",
      "9\n",
      "11\n",
      "13\n",
      "15\n",
      "17\n",
      "19\n",
      "21\n",
      "23\n",
      "25\n",
      "27\n",
      "29\n"
     ]
    },
    {
     "data": {
      "image/png": "[encoded data removed]",
      "text/plain": [
       "<Figure size 432x288 with 1 Axes>"
      ]
     },
     "metadata": {},
     "output_type": "display_data"
    }
   ],
   "source": [
    "# visualize within-cluster distance across number of clusters.\n",
    "\n",
    "#batch size of minibatch\n",
    "batch_size=50000\n",
    "\n",
    "scores = []\n",
    "centers = list(range(1,30, 2))\n",
    "for center in centers:\n",
    "    print(center)\n",
    "    scores.append(etl.get_kmeans_score(azdias_pca, center, batch_size))\n",
    "    \n",
    "plt.plot(centers, scores, linestyle='--', marker='o', color='b');\n",
    "plt.xlabel('K');\n",
    "plt.ylabel('SSE');\n",
    "plt.title('SSE vs. K');"
   ]
  },
  {
   "cell_type": "code",
   "execution_count": 83,
   "metadata": {},
   "outputs": [
    {
     "data": {
      "image/png": "[encoded data removed]",
      "text/plain": [
       "<Figure size 432x288 with 1 Axes>"
      ]
     },
     "metadata": {},
     "output_type": "display_data"
    }
   ],
   "source": [
    "plt.plot(centers[:8], scores[:8], linestyle='--', marker='o', color='b');\n",
    "plt.xlabel('K');\n",
    "plt.ylabel('SSE');\n",
    "plt.title('SSE vs. K');"
   ]
  },
  {
   "cell_type": "code",
   "execution_count": 72,
   "metadata": {},
   "outputs": [
    {
     "name": "stdout",
     "output_type": "stream",
     "text": [
      "The selected number of clusters: 15\n"
     ]
    }
   ],
   "source": [
    "# Re-fit the k-means model with the selected number of clusters and obtain\n",
    "# cluster predictions for the general population demographics data.\n",
    "n_clusters = 15\n",
    "print(\"The selected number of clusters:\", n_clusters)\n",
    "kmeans = MiniBatchKMeans(n_clusters, batch_size, random_state=42)\n",
    "general_model = kmeans.fit(azdias_pca)\n",
    "general_predictions = kmeans.predict(azdias_pca)"
   ]
  },
  {
   "cell_type": "markdown",
   "metadata": {},
   "source": [
    "### Combine ETL pipeline with PCA and KMeans steps\n"
   ]
  },
  {
   "cell_type": "code",
   "execution_count": 85,
   "metadata": {},
   "outputs": [],
   "source": [
    "n_clusters = 15\n",
    "batch_size = 50000\n",
    "unsupervised_pipeline = Pipeline([\n",
    "                        ('transform', ct), \n",
    "                        ('pca', PCA(n_components),\n",
    "                        ('kmeans', MiniBatchKMeans(n_clusters, batch_size, random_state=42) )\n",
    "                        )])"
   ]
  },
  {
   "cell_type": "code",
   "execution_count": 87,
   "metadata": {},
   "outputs": [
    {
     "name": "stdout",
     "output_type": "stream",
     "text": [
      "Convert missing value codes into NaNs\n",
      "Attribute BIP_FLAG is not available in DataFrame.\n",
      "Attribute CAMEO_DEUINTL_2015 is not available in DataFrame.\n",
      "Attribute D19_KK_KUNDENTYP is not available in DataFrame.\n",
      "Attribute GEOSCORE_KLS7 is not available in DataFrame.\n",
      "Attribute HAUSHALTSSTRUKTUR is not available in DataFrame.\n",
      "Attribute KBA13_CCM_1400_2500 is not available in DataFrame.\n",
      "Attribute SOHO_FLAG is not available in DataFrame.\n",
      "Attribute WACHSTUMSGEBIET_NB is not available in DataFrame.\n",
      "Attribute D19_BUCH is not available in DataFrame.\n",
      "Attribute D19_KINDERARTIKELD19_KOSMETIK is not available in DataFrame.\n",
      "Drop columns with more than 30% of missing values\n",
      "Drop columns indicated in attribute_types.csv file\n",
      "Remove rows with more than 25 missing attributes\n",
      "Reencode OST_WEST_KZ attribute\n",
      "Change EINGEFUEGT_AM to year\n",
      "(134245, 302)\n",
      "Engineer PRAEGENDE_JUGENDJAHRE\n",
      "Engineer CAMEO_INTL_2015\n",
      "Engineer WOHNLAGE\n",
      "Engineer PLZ8_BAUMAX\n"
     ]
    }
   ],
   "source": [
    "customers_cleaned = etl.clean_data(customers)"
   ]
  },
  {
   "cell_type": "code",
   "execution_count": 90,
   "metadata": {},
   "outputs": [
    {
     "ename": "ValueError",
     "evalue": "too many values to unpack (expected 2)",
     "output_type": "error",
     "traceback": [
      "\u001b[0;31m---------------------------------------------------------------------------\u001b[0m",
      "\u001b[0;31mValueError\u001b[0m                                Traceback (most recent call last)",
      "\u001b[0;32m<ipython-input-90-0a59bb683511>\u001b[0m in \u001b[0;36m<module>\u001b[0;34m()\u001b[0m\n\u001b[0;32m----> 1\u001b[0;31m \u001b[0mcustomers_transformed\u001b[0m \u001b[0;34m=\u001b[0m \u001b[0munsupervised_pipeline\u001b[0m\u001b[0;34m.\u001b[0m\u001b[0mtransform\u001b[0m\u001b[0;34m(\u001b[0m\u001b[0mcustomers_cleaned\u001b[0m\u001b[0;34m)\u001b[0m\u001b[0;34m\u001b[0m\u001b[0m\n\u001b[0m\u001b[1;32m      2\u001b[0m \u001b[0mprint\u001b[0m\u001b[0;34m(\u001b[0m\u001b[0mcustomers_transformed\u001b[0m\u001b[0;34m.\u001b[0m\u001b[0mshape\u001b[0m\u001b[0;34m)\u001b[0m\u001b[0;34m\u001b[0m\u001b[0m\n\u001b[1;32m      3\u001b[0m \u001b[0mcustomers_transformed\u001b[0m \u001b[0;34m=\u001b[0m \u001b[0mpd\u001b[0m\u001b[0;34m.\u001b[0m\u001b[0mDataFrame\u001b[0m\u001b[0;34m(\u001b[0m\u001b[0mcustomers_transformed\u001b[0m\u001b[0;34m,\u001b[0m \u001b[0mcolumns\u001b[0m \u001b[0;34m=\u001b[0m \u001b[0mcolumn_names\u001b[0m\u001b[0;34m)\u001b[0m\u001b[0;34m\u001b[0m\u001b[0m\n\u001b[1;32m      4\u001b[0m \u001b[0mcustomers_transformed\u001b[0m\u001b[0;34m.\u001b[0m\u001b[0mhead\u001b[0m\u001b[0;34m(\u001b[0m\u001b[0;34m)\u001b[0m\u001b[0;34m\u001b[0m\u001b[0m\n",
      "\u001b[0;32m~/miniconda/envs/Python_36/lib/python3.6/site-packages/sklearn/pipeline.py\u001b[0m in \u001b[0;36m_transform\u001b[0;34m(self, X)\u001b[0m\n\u001b[1;32m    447\u001b[0m     \u001b[0;32mdef\u001b[0m \u001b[0m_transform\u001b[0m\u001b[0;34m(\u001b[0m\u001b[0mself\u001b[0m\u001b[0;34m,\u001b[0m \u001b[0mX\u001b[0m\u001b[0;34m)\u001b[0m\u001b[0;34m:\u001b[0m\u001b[0;34m\u001b[0m\u001b[0m\n\u001b[1;32m    448\u001b[0m         \u001b[0mXt\u001b[0m \u001b[0;34m=\u001b[0m \u001b[0mX\u001b[0m\u001b[0;34m\u001b[0m\u001b[0m\n\u001b[0;32m--> 449\u001b[0;31m         \u001b[0;32mfor\u001b[0m \u001b[0mname\u001b[0m\u001b[0;34m,\u001b[0m \u001b[0mtransform\u001b[0m \u001b[0;32min\u001b[0m \u001b[0mself\u001b[0m\u001b[0;34m.\u001b[0m\u001b[0msteps\u001b[0m\u001b[0;34m:\u001b[0m\u001b[0;34m\u001b[0m\u001b[0m\n\u001b[0m\u001b[1;32m    450\u001b[0m             \u001b[0;32mif\u001b[0m \u001b[0mtransform\u001b[0m \u001b[0;32mis\u001b[0m \u001b[0;32mnot\u001b[0m \u001b[0;32mNone\u001b[0m\u001b[0;34m:\u001b[0m\u001b[0;34m\u001b[0m\u001b[0m\n\u001b[1;32m    451\u001b[0m                 \u001b[0mXt\u001b[0m \u001b[0;34m=\u001b[0m \u001b[0mtransform\u001b[0m\u001b[0;34m.\u001b[0m\u001b[0mtransform\u001b[0m\u001b[0;34m(\u001b[0m\u001b[0mXt\u001b[0m\u001b[0;34m)\u001b[0m\u001b[0;34m\u001b[0m\u001b[0m\n",
      "\u001b[0;31mValueError\u001b[0m: too many values to unpack (expected 2)"
     ]
    }
   ],
   "source": [
    "customers_transformed = unsupervised_pipeline.transform(customers_cleaned)\n",
    "print(customers_transformed.shape)\n",
    "customers_transformed = pd.DataFrame(customers_transformed, columns = column_names)\n",
    "customers_transformed.head()"
   ]
  },
  {
   "cell_type": "code",
   "execution_count": 108,
   "metadata": {},
   "outputs": [
    {
     "name": "stdout",
     "output_type": "stream",
     "text": [
      "[ 3  3  3 ...,  3 14  1]\n"
     ]
    }
   ],
   "source": [
    "customers_predictions = kmeans.predict(customers_pca)\n",
    "print(customers_predictions)"
   ]
  },
  {
   "cell_type": "code",
   "execution_count": 109,
   "metadata": {
    "collapsed": true
   },
   "outputs": [],
   "source": [
    "# Compare the proportion of data in each cluster for the customer data to the\n",
    "# proportion of data in each cluster for the general population.\n",
    "\n",
    "dfbar = pd.DataFrame(columns=['clusters','type'])\n",
    "dfbar['clusters'] = np.append(general_predictions, customers_predictions)\n",
    "dfbar['type'] = ['general']*len(general_predictions) + ['customers']*len(customers_predictions)\n",
    "#sns.countplot(x='clusters', hue='type', data=dfbar)"
   ]
  },
  {
   "cell_type": "code",
   "execution_count": 110,
   "metadata": {},
   "outputs": [
    {
     "name": "stdout",
     "output_type": "stream",
     "text": [
      "General counts: [33396 48893 46672 64307 54478 55319 57532 49362 39712 46174 44588 59536\n",
      " 50590 36715 49957]\n",
      "Customers counts: [ 4894 15663   482 30140  4702 18404 14765  5179   878   994 29009   564\n",
      "  2723  2288  3560]\n",
      "General ratio: [ 0.04529923  0.06631978  0.06330716  0.08722775  0.07389543  0.07503618\n",
      "  0.07803796  0.06695595  0.05386643  0.06263166  0.06048037  0.08075624\n",
      "  0.06862164  0.04980122  0.06776302]\n",
      "Customers ratio: [ 0.03645573  0.11667474  0.00359045  0.22451488  0.03502551  0.13709263\n",
      "  0.10998547  0.03857872  0.00654028  0.00740437  0.21608998  0.00420127\n",
      "  0.02028381  0.01704347  0.02651868]\n"
     ]
    }
   ],
   "source": [
    "general_counts = np.array(dfbar['clusters'].loc[dfbar['type'] == 'general'].value_counts().sort_index(ascending=True))\n",
    "customers_counts = np.array(dfbar['clusters'].loc[dfbar['type'] == 'customers'].value_counts().sort_index(ascending=True))\n",
    "\n",
    "print(\"General counts:\", general_counts)\n",
    "print(\"Customers counts:\", customers_counts)\n",
    "\n",
    "#\"add zero customers to 13 cluster\"\n",
    "#customers_counts = np.append(customers_counts, customers_counts[-1])\n",
    "#customers_counts[-2] = 0\n",
    "#print(customers_counts)\n",
    "\n",
    "general_ratio = general_counts/len(general_predictions)\n",
    "customers_ratio = customers_counts/len(customers_predictions)\n",
    "print(\"General ratio:\", general_ratio)\n",
    "print(\"Customers ratio:\", customers_ratio)"
   ]
  },
  {
   "cell_type": "code",
   "execution_count": 111,
   "metadata": {},
   "outputs": [
    {
     "data": {
      "image/png": "[encoded data removed]",
      "text/plain": [
       "<Figure size 432x288 with 1 Axes>"
      ]
     },
     "metadata": {},
     "output_type": "display_data"
    }
   ],
   "source": [
    "index = np.arange(n_clusters)\n",
    "bar_width = 0.35\n",
    "\n",
    "fig, ax = plt.subplots()\n",
    "\n",
    "#print(len(customers_ratio))\n",
    "ax.bar(index, general_ratio, bar_width, label = \"general\")\n",
    "ax.bar(index+bar_width, customers_ratio, bar_width, label = \"customers\")\n",
    "\n",
    "ax.set_xlabel('Clusters')\n",
    "ax.set_ylabel('Proportion')\n",
    "ax.set_title('Proportion of data points for the general population and the customer data')\n",
    "ax.set_xticks(index + bar_width / 2)\n",
    "ax.set_xticklabels(index+1)\n",
    "ax.legend()\n",
    "\n",
    "#fig.tight_layout()\n",
    "plt.show()"
   ]
  },
  {
   "cell_type": "code",
   "execution_count": 112,
   "metadata": {},
   "outputs": [
    {
     "name": "stdout",
     "output_type": "stream",
     "text": [
      "15\n",
      "15\n"
     ]
    },
    {
     "data": {
      "text/plain": [
       "[Text(0,0,'1'),\n",
       " Text(0,0,'2'),\n",
       " Text(0,0,'3'),\n",
       " Text(0,0,'4'),\n",
       " Text(0,0,'5'),\n",
       " Text(0,0,'6'),\n",
       " Text(0,0,'7'),\n",
       " Text(0,0,'8'),\n",
       " Text(0,0,'9'),\n",
       " Text(0,0,'10'),\n",
       " Text(0,0,'11'),\n",
       " Text(0,0,'12'),\n",
       " Text(0,0,'13'),\n",
       " Text(0,0,'14'),\n",
       " Text(0,0,'15')]"
      ]
     },
     "execution_count": 112,
     "metadata": {},
     "output_type": "execute_result"
    },
    {
     "data": {
      "image/png": "[encoded data removed]",
      "text/plain": [
       "<Figure size 432x288 with 1 Axes>"
      ]
     },
     "metadata": {},
     "output_type": "display_data"
    }
   ],
   "source": [
    "#plot the difference in proportion between customers and general audience.\n",
    "#positive - overrepresented customers data\n",
    "#negative - underrepresented customers data\n",
    "diff_ratio = customers_ratio - general_ratio\n",
    "print(len(diff_ratio))\n",
    "index = np.arange(n_clusters)\n",
    "bar_width = 0.35\n",
    "print(len(index))\n",
    "fig, ax = plt.subplots()\n",
    "\n",
    "ax = sns.barplot(x = index, y = diff_ratio)\n",
    "\n",
    "ax.set_xlabel('Clusters')\n",
    "ax.set_ylabel('Proportion')\n",
    "ax.set_title('Difference in proportion between customers and general audience: positive is overrepresented and negative is underrepresented')\n",
    "ax.set_xticks(index)\n",
    "ax.set_xticklabels(index+1)"
   ]
  },
  {
   "cell_type": "code",
   "execution_count": null,
   "metadata": {
    "collapsed": true
   },
   "outputs": [],
   "source": []
  },
  {
   "cell_type": "markdown",
   "metadata": {},
   "source": [
    "## Part 2: Supervised Learning Model\n",
    "\n",
    "Now that you've found which parts of the population are more likely to be customers of the mail-order company, it's time to build a prediction model. Each of the rows in the \"MAILOUT\" data files represents an individual that was targeted for a mailout campaign. Ideally, we should be able to use the demographic information from each individual to decide whether or not it will be worth it to include that person in the campaign.\n",
    "\n",
    "The \"MAILOUT\" data has been split into two approximately equal parts, each with almost 43 000 data rows. In this part, you can verify your model with the \"TRAIN\" partition, which includes a column, \"RESPONSE\", that states whether or not a person became a customer of the company following the campaign. In the next part, you'll need to create predictions on the \"TEST\" partition, where the \"RESPONSE\" column has been withheld."
   ]
  },
  {
   "cell_type": "code",
   "execution_count": 104,
   "metadata": {},
   "outputs": [
    {
     "name": "stderr",
     "output_type": "stream",
     "text": [
      "/Users/maxim/miniconda/envs/Python_36/lib/python3.6/site-packages/IPython/core/interactiveshell.py:2785: DtypeWarning: Columns (18,19) have mixed types. Specify dtype option on import or set low_memory=False.\n",
      "  interactivity=interactivity, compiler=compiler, result=result)\n"
     ]
    }
   ],
   "source": [
    "mailout_train = pd.read_csv('../Arvato-Capstone/Udacity_MAILOUT_052018_TRAIN.csv', sep=';')"
   ]
  },
  {
   "cell_type": "code",
   "execution_count": 105,
   "metadata": {},
   "outputs": [
    {
     "name": "stdout",
     "output_type": "stream",
     "text": [
      "(42962, 367)\n"
     ]
    },
    {
     "data": {
      "text/plain": [
       "0    42430\n",
       "1      532\n",
       "Name: RESPONSE, dtype: int64"
      ]
     },
     "execution_count": 105,
     "metadata": {},
     "output_type": "execute_result"
    }
   ],
   "source": [
    "print(mailout_train.shape)\n",
    "mailout_train[\"RESPONSE\"].value_counts()"
   ]
  },
  {
   "cell_type": "code",
   "execution_count": 107,
   "metadata": {},
   "outputs": [
    {
     "name": "stdout",
     "output_type": "stream",
     "text": [
      "Convert missing value codes into NaNs\n",
      "Attribute BIP_FLAG is not available in DataFrame.\n",
      "Attribute CAMEO_DEUINTL_2015 is not available in DataFrame.\n",
      "Attribute D19_KK_KUNDENTYP is not available in DataFrame.\n",
      "Attribute GEOSCORE_KLS7 is not available in DataFrame.\n",
      "Attribute HAUSHALTSSTRUKTUR is not available in DataFrame.\n",
      "Attribute KBA13_CCM_1400_2500 is not available in DataFrame.\n",
      "Attribute SOHO_FLAG is not available in DataFrame.\n",
      "Attribute WACHSTUMSGEBIET_NB is not available in DataFrame.\n",
      "Attribute D19_BUCH is not available in DataFrame.\n",
      "Attribute D19_KINDERARTIKELD19_KOSMETIK is not available in DataFrame.\n",
      "(42962, 367)\n",
      "Drop columns with more than 30% of missing values\n",
      "Drop columns indicated in attribute_types.csv file\n",
      "(42962, 304)\n",
      "(42962, 304)\n",
      "Re-encode categorical attributes\n",
      "Reencode OST_WEST_KZ attribute\n",
      "Change EINGEFUEGT_AM to year\n",
      "(42962, 409)\n",
      "Engineer PRAEGENDE_JUGENDJAHRE\n",
      "Engineer CAMEO_INTL_2015\n",
      "Engineer WOHNLAGE\n",
      "Engineer PLZ8_BAUMAX\n",
      "All columns are numeric\n",
      "(42962, 412)\n"
     ]
    },
    {
     "data": {
      "image/png": "[encoded data removed]",
      "text/plain": [
       "<Figure size 432x288 with 1 Axes>"
      ]
     },
     "metadata": {},
     "output_type": "display_data"
    }
   ],
   "source": [
    "#clean data using clean_data function from unsupervied learning created for general population\n",
    "mailout_train_cleaned = clean_data(mailout_train, test_data=True)"
   ]
  },
  {
   "cell_type": "code",
   "execution_count": 103,
   "metadata": {},
   "outputs": [
    {
     "name": "stdout",
     "output_type": "stream",
     "text": [
      "0    0.987705\n",
      "1    0.012295\n",
      "Name: RESPONSE, dtype: float64\n",
      "0.0    0.779186\n",
      "1.0    0.009716\n",
      "Name: RESPONSE, dtype: float64\n",
      "0.0    0.777039\n",
      "1.0    0.010047\n",
      "Name: RESPONSE, dtype: float64\n"
     ]
    },
    {
     "name": "stderr",
     "output_type": "stream",
     "text": [
      "/Users/maxim/miniconda/envs/Python_36/lib/python3.6/site-packages/ipykernel_launcher.py:5: FutureWarning: \n",
      "Passing list-likes to .loc or [] with any missing label will raise\n",
      "KeyError in the future, you can use .reindex() as an alternative.\n",
      "\n",
      "See the documentation here:\n",
      "https://pandas.pydata.org/pandas-docs/stable/indexing.html#deprecate-loc-reindex-listlike\n",
      "  \"\"\"\n",
      "/Users/maxim/miniconda/envs/Python_36/lib/python3.6/site-packages/ipykernel_launcher.py:6: FutureWarning: \n",
      "Passing list-likes to .loc or [] with any missing label will raise\n",
      "KeyError in the future, you can use .reindex() as an alternative.\n",
      "\n",
      "See the documentation here:\n",
      "https://pandas.pydata.org/pandas-docs/stable/indexing.html#deprecate-loc-reindex-listlike\n",
      "  \n"
     ]
    }
   ],
   "source": [
    "from sklearn.model_selection import StratifiedShuffleSplit\n",
    "\n",
    "split = StratifiedShuffleSplit(n_splits=1, test_size=0.2, random_state=42)\n",
    "for train_index, test_index in split.split(mailout_train_cleaned, mailout_train_cleaned[\"RESPONSE\"]):\n",
    "    strat_train_set = mailout_train_cleaned.loc[train_index]\n",
    "    strat_test_set = mailout_train_cleaned.loc[test_index]\n",
    "\n",
    "print(mailout_train_cleaned[\"RESPONSE\"].value_counts()/mailout_train_cleaned.shape[0])\n",
    "print(strat_train_set[\"RESPONSE\"].value_counts()/strat_train_set.shape[0])\n",
    "print(strat_test_set[\"RESPONSE\"].value_counts()/strat_test_set.shape[0])"
   ]
  },
  {
   "cell_type": "code",
   "execution_count": 94,
   "metadata": {
    "collapsed": true
   },
   "outputs": [],
   "source": [
    "y_train = strat_train_set[\"RESPONSE\"]\n",
    "X_train = strat_train_set.drop([\"RESPONSE\"], axis=1)"
   ]
  },
  {
   "cell_type": "code",
   "execution_count": 95,
   "metadata": {
    "collapsed": true
   },
   "outputs": [],
   "source": [
    "log_transform_attributes = ['ANZ_HAUSHALTE_AKTIV','KBA13_ANZAHL_PKW']\n",
    "transformer = FunctionTransformer(np.log1p, validate=False)\n",
    "X_train[log_transform_attributes] = transformer.transform(X_train[log_transform_attributes])\n",
    "\n",
    "imputer = Imputer(missing_values='NaN', strategy='median', axis=0)\n",
    "X_train = imputer.fit_transform(X_train[:])\n",
    "\n",
    "scaler = scaler = StandardScaler()\n",
    "X_train = scaler.fit_transform(X_train[:])\n"
   ]
  },
  {
   "cell_type": "code",
   "execution_count": 69,
   "metadata": {},
   "outputs": [
    {
     "data": {
      "text/plain": [
       "array([[-0.82496267, -0.00910611, -0.34618162, ...,  1.85468748,\n",
       "        -0.29630846, -0.26589165],\n",
       "       [-0.82496267,  4.0136167 , -0.34618162, ..., -0.53917439,\n",
       "        -0.29630846, -0.26589165],\n",
       "       [-0.82496267, -0.00910611, -0.34618162, ..., -0.53917439,\n",
       "        -0.29630846, -0.26589165],\n",
       "       ..., \n",
       "       [-0.82496267,  1.59998301, -0.34618162, ...,  1.85468748,\n",
       "        -0.29630846, -0.26589165],\n",
       "       [-0.34728116,  0.79543845, -0.26960416, ..., -0.53917439,\n",
       "        -0.29630846, -0.26589165],\n",
       "       [ 0.65092685, -1.61819523,  0.18986058, ..., -0.53917439,\n",
       "        -0.29630846,  2.07970133]])"
      ]
     },
     "execution_count": 69,
     "metadata": {},
     "output_type": "execute_result"
    }
   ],
   "source": [
    "X_train"
   ]
  },
  {
   "cell_type": "code",
   "execution_count": 96,
   "metadata": {
    "collapsed": true
   },
   "outputs": [],
   "source": [
    "y_test = strat_test_set[\"RESPONSE\"]\n",
    "X_test = strat_test_set.drop([\"RESPONSE\"], axis=1)"
   ]
  },
  {
   "cell_type": "code",
   "execution_count": 97,
   "metadata": {
    "collapsed": true
   },
   "outputs": [],
   "source": [
    "X_test[log_transform_attributes] = transformer.transform(X_test[log_transform_attributes])\n",
    "\n",
    "X_test = imputer.transform(X_test[:])\n",
    "X_test = scaler.transform(X_test[:])"
   ]
  },
  {
   "cell_type": "code",
   "execution_count": 98,
   "metadata": {
    "collapsed": true
   },
   "outputs": [],
   "source": [
    "from sklearn.ensemble import RandomForestClassifier\n",
    "from sklearn.ensemble import AdaBoostClassifier\n",
    "from sklearn.ensemble import GradientBoostingClassifier\n",
    "#from sklearn.ensemble import BaggingClassifier\n",
    "from sklearn.svm import SVC\n",
    "\n",
    "# TODO: Initialize the three models\n",
    "clf_A = RandomForestClassifier(random_state=42)\n",
    "clf_B = AdaBoostClassifier(random_state=42)\n",
    "clf_C = GradientBoostingClassifier(random_state=42)\n",
    "#clf_D = SVC(random_state=42)\n"
   ]
  },
  {
   "cell_type": "code",
   "execution_count": 99,
   "metadata": {},
   "outputs": [
    {
     "name": "stdout",
     "output_type": "stream",
     "text": [
      "RandomForestClassifier(bootstrap=True, class_weight=None, criterion='gini',\n",
      "            max_depth=None, max_features='auto', max_leaf_nodes=None,\n",
      "            min_impurity_decrease=0.0, min_impurity_split=None,\n",
      "            min_samples_leaf=1, min_samples_split=2,\n",
      "            min_weight_fraction_leaf=0.0, n_estimators=10, n_jobs=1,\n",
      "            oob_score=False, random_state=42, verbose=0, warm_start=False)\n"
     ]
    },
    {
     "ename": "ValueError",
     "evalue": "Input contains NaN, infinity or a value too large for dtype('float64').",
     "output_type": "error",
     "traceback": [
      "\u001b[0;31m---------------------------------------------------------------------------\u001b[0m",
      "\u001b[0;31mValueError\u001b[0m                                Traceback (most recent call last)",
      "\u001b[0;32m<ipython-input-99-9565c86acb01>\u001b[0m in \u001b[0;36m<module>\u001b[0;34m()\u001b[0m\n\u001b[1;32m      3\u001b[0m \u001b[0;32mfor\u001b[0m \u001b[0mclf\u001b[0m \u001b[0;32min\u001b[0m \u001b[0;34m[\u001b[0m\u001b[0mclf_A\u001b[0m\u001b[0;34m,\u001b[0m \u001b[0mclf_B\u001b[0m\u001b[0;34m,\u001b[0m \u001b[0mclf_C\u001b[0m\u001b[0;34m]\u001b[0m\u001b[0;34m:\u001b[0m\u001b[0;34m\u001b[0m\u001b[0m\n\u001b[1;32m      4\u001b[0m     \u001b[0mprint\u001b[0m\u001b[0;34m(\u001b[0m\u001b[0mclf\u001b[0m\u001b[0;34m)\u001b[0m\u001b[0;34m\u001b[0m\u001b[0m\n\u001b[0;32m----> 5\u001b[0;31m     \u001b[0mclf\u001b[0m\u001b[0;34m.\u001b[0m\u001b[0mfit\u001b[0m\u001b[0;34m(\u001b[0m\u001b[0mX_train\u001b[0m\u001b[0;34m,\u001b[0m \u001b[0my_train\u001b[0m\u001b[0;34m)\u001b[0m\u001b[0;34m\u001b[0m\u001b[0m\n\u001b[0m\u001b[1;32m      6\u001b[0m     \u001b[0mproba_train\u001b[0m \u001b[0;34m=\u001b[0m \u001b[0mclf\u001b[0m\u001b[0;34m.\u001b[0m\u001b[0mpredict_proba\u001b[0m\u001b[0;34m(\u001b[0m\u001b[0mX_train\u001b[0m\u001b[0;34m)\u001b[0m\u001b[0;34m[\u001b[0m\u001b[0;34m:\u001b[0m\u001b[0;34m,\u001b[0m \u001b[0;36m1\u001b[0m\u001b[0;34m]\u001b[0m\u001b[0;34m\u001b[0m\u001b[0m\n\u001b[1;32m      7\u001b[0m     \u001b[0mproba_test\u001b[0m \u001b[0;34m=\u001b[0m \u001b[0mclf\u001b[0m\u001b[0;34m.\u001b[0m\u001b[0mpredict_proba\u001b[0m\u001b[0;34m(\u001b[0m\u001b[0mX_test\u001b[0m\u001b[0;34m)\u001b[0m\u001b[0;34m[\u001b[0m\u001b[0;34m:\u001b[0m\u001b[0;34m,\u001b[0m \u001b[0;36m1\u001b[0m\u001b[0;34m]\u001b[0m\u001b[0;34m\u001b[0m\u001b[0m\n",
      "\u001b[0;32m~/miniconda/envs/Python_36/lib/python3.6/site-packages/sklearn/ensemble/forest.py\u001b[0m in \u001b[0;36mfit\u001b[0;34m(self, X, y, sample_weight)\u001b[0m\n\u001b[1;32m    246\u001b[0m         \u001b[0;31m# Validate or convert input data\u001b[0m\u001b[0;34m\u001b[0m\u001b[0;34m\u001b[0m\u001b[0m\n\u001b[1;32m    247\u001b[0m         \u001b[0mX\u001b[0m \u001b[0;34m=\u001b[0m \u001b[0mcheck_array\u001b[0m\u001b[0;34m(\u001b[0m\u001b[0mX\u001b[0m\u001b[0;34m,\u001b[0m \u001b[0maccept_sparse\u001b[0m\u001b[0;34m=\u001b[0m\u001b[0;34m\"csc\"\u001b[0m\u001b[0;34m,\u001b[0m \u001b[0mdtype\u001b[0m\u001b[0;34m=\u001b[0m\u001b[0mDTYPE\u001b[0m\u001b[0;34m)\u001b[0m\u001b[0;34m\u001b[0m\u001b[0m\n\u001b[0;32m--> 248\u001b[0;31m         \u001b[0my\u001b[0m \u001b[0;34m=\u001b[0m \u001b[0mcheck_array\u001b[0m\u001b[0;34m(\u001b[0m\u001b[0my\u001b[0m\u001b[0;34m,\u001b[0m \u001b[0maccept_sparse\u001b[0m\u001b[0;34m=\u001b[0m\u001b[0;34m'csc'\u001b[0m\u001b[0;34m,\u001b[0m \u001b[0mensure_2d\u001b[0m\u001b[0;34m=\u001b[0m\u001b[0;32mFalse\u001b[0m\u001b[0;34m,\u001b[0m \u001b[0mdtype\u001b[0m\u001b[0;34m=\u001b[0m\u001b[0;32mNone\u001b[0m\u001b[0;34m)\u001b[0m\u001b[0;34m\u001b[0m\u001b[0m\n\u001b[0m\u001b[1;32m    249\u001b[0m         \u001b[0;32mif\u001b[0m \u001b[0msample_weight\u001b[0m \u001b[0;32mis\u001b[0m \u001b[0;32mnot\u001b[0m \u001b[0;32mNone\u001b[0m\u001b[0;34m:\u001b[0m\u001b[0;34m\u001b[0m\u001b[0m\n\u001b[1;32m    250\u001b[0m             \u001b[0msample_weight\u001b[0m \u001b[0;34m=\u001b[0m \u001b[0mcheck_array\u001b[0m\u001b[0;34m(\u001b[0m\u001b[0msample_weight\u001b[0m\u001b[0;34m,\u001b[0m \u001b[0mensure_2d\u001b[0m\u001b[0;34m=\u001b[0m\u001b[0;32mFalse\u001b[0m\u001b[0;34m)\u001b[0m\u001b[0;34m\u001b[0m\u001b[0m\n",
      "\u001b[0;32m~/miniconda/envs/Python_36/lib/python3.6/site-packages/sklearn/utils/validation.py\u001b[0m in \u001b[0;36mcheck_array\u001b[0;34m(array, accept_sparse, dtype, order, copy, force_all_finite, ensure_2d, allow_nd, ensure_min_samples, ensure_min_features, warn_on_dtype, estimator)\u001b[0m\n\u001b[1;32m    451\u001b[0m                              % (array.ndim, estimator_name))\n\u001b[1;32m    452\u001b[0m         \u001b[0;32mif\u001b[0m \u001b[0mforce_all_finite\u001b[0m\u001b[0;34m:\u001b[0m\u001b[0;34m\u001b[0m\u001b[0m\n\u001b[0;32m--> 453\u001b[0;31m             \u001b[0m_assert_all_finite\u001b[0m\u001b[0;34m(\u001b[0m\u001b[0marray\u001b[0m\u001b[0;34m)\u001b[0m\u001b[0;34m\u001b[0m\u001b[0m\n\u001b[0m\u001b[1;32m    454\u001b[0m \u001b[0;34m\u001b[0m\u001b[0m\n\u001b[1;32m    455\u001b[0m     \u001b[0mshape_repr\u001b[0m \u001b[0;34m=\u001b[0m \u001b[0m_shape_repr\u001b[0m\u001b[0;34m(\u001b[0m\u001b[0marray\u001b[0m\u001b[0;34m.\u001b[0m\u001b[0mshape\u001b[0m\u001b[0;34m)\u001b[0m\u001b[0;34m\u001b[0m\u001b[0m\n",
      "\u001b[0;32m~/miniconda/envs/Python_36/lib/python3.6/site-packages/sklearn/utils/validation.py\u001b[0m in \u001b[0;36m_assert_all_finite\u001b[0;34m(X)\u001b[0m\n\u001b[1;32m     42\u001b[0m             and not np.isfinite(X).all()):\n\u001b[1;32m     43\u001b[0m         raise ValueError(\"Input contains NaN, infinity\"\n\u001b[0;32m---> 44\u001b[0;31m                          \" or a value too large for %r.\" % X.dtype)\n\u001b[0m\u001b[1;32m     45\u001b[0m \u001b[0;34m\u001b[0m\u001b[0m\n\u001b[1;32m     46\u001b[0m \u001b[0;34m\u001b[0m\u001b[0m\n",
      "\u001b[0;31mValueError\u001b[0m: Input contains NaN, infinity or a value too large for dtype('float64')."
     ]
    }
   ],
   "source": [
    "from sklearn.metrics import roc_auc_score\n",
    "\n",
    "for clf in [clf_A, clf_B, clf_C]:\n",
    "    print(clf)\n",
    "    clf.fit(X_train, y_train)\n",
    "    proba_train = clf.predict_proba(X_train)[:, 1]\n",
    "    proba_test = clf.predict_proba(X_test)[:, 1]\n",
    "    print(\"Roc_auc train score {}\".format(roc_auc_score(y_train, proba_train)))\n",
    "    print(\"Roc_auc test score {}\".format(roc_auc_score(y_test, proba_test)))\n",
    "\n"
   ]
  },
  {
   "cell_type": "code",
   "execution_count": 74,
   "metadata": {},
   "outputs": [
    {
     "name": "stdout",
     "output_type": "stream",
     "text": [
      "GradientBoostingClassifier(criterion='friedman_mse', init=None,\n",
      "              learning_rate=0.1, loss='deviance', max_depth=3,\n",
      "              max_features=None, max_leaf_nodes=None,\n",
      "              min_impurity_decrease=0.0, min_impurity_split=None,\n",
      "              min_samples_leaf=1, min_samples_split=2,\n",
      "              min_weight_fraction_leaf=0.0, n_estimators=100,\n",
      "              presort='auto', random_state=42, subsample=1.0, verbose=0,\n",
      "              warm_start=False)\n",
      "Unoptimized model\n",
      "------\n",
      "Roc_auc score on testing data: 0.7661\n",
      "\n",
      "Optimized Model\n",
      "------\n",
      "Final Roc_auc score on the testing data: 0.7661\n"
     ]
    }
   ],
   "source": [
    "from sklearn.model_selection import GridSearchCV\n",
    "\n",
    "#initialize classifier\n",
    "clf = GradientBoostingClassifier(random_state=42)\n",
    "#parameters = {'parameter_1': [value1, value2], 'parameter_2': [value1, value2]}\n",
    "parameters = {'learning_rate': [0.1], 'n_estimators': [100, 200], \n",
    "              'max_depth': [3], 'min_samples_split': [2]}\n",
    "\n",
    "#scorer = make_scorer(score_func=roc_auc_score, needs_proba=True)\n",
    "\n",
    "grid_obj = GridSearchCV(clf, parameters, scoring = 'roc_auc')\n",
    "\n",
    "# Fit the grid search object to the training data and find the optimal parameters\n",
    "grid_obj.fit(X_train, y_train)\n",
    "\n",
    "# Get the estimator and predict\n",
    "best_clf = grid_obj.best_estimator_\n",
    "print(best_clf)\n",
    "\n",
    "# Make predictions using the unoptimized and model\n",
    "predictions = (clf.fit(X_train, y_train)).predict_proba(X_test)[:, 1]\n",
    "\n",
    "#best predictions\n",
    "best_predictions = best_clf.predict_proba(X_test)[:, 1]\n",
    "\n",
    "# Report the before-and-afterscores\n",
    "print(\"Unoptimized model\\n------\")\n",
    "print(\"Roc_auc score on testing data: {:.4f}\".format(roc_auc_score(y_test, predictions)))\n",
    "print(\"\\nOptimized Model\\n------\")\n",
    "print(\"Final Roc_auc score on the testing data: {:.4f}\".format(roc_auc_score(y_test, best_predictions)))\n",
    "\n"
   ]
  },
  {
   "cell_type": "code",
   "execution_count": 75,
   "metadata": {},
   "outputs": [
    {
     "data": {
      "text/plain": [
       "{'learning_rate': 0.1,\n",
       " 'max_depth': 3,\n",
       " 'min_samples_split': 2,\n",
       " 'n_estimators': 100}"
      ]
     },
     "execution_count": 75,
     "metadata": {},
     "output_type": "execute_result"
    }
   ],
   "source": [
    "grid_obj.best_params_\n",
    "\n"
   ]
  },
  {
   "cell_type": "code",
   "execution_count": 76,
   "metadata": {},
   "outputs": [
    {
     "data": {
      "text/plain": [
       "<matplotlib.axes._subplots.AxesSubplot at 0x114dbd048>"
      ]
     },
     "execution_count": 76,
     "metadata": {},
     "output_type": "execute_result"
    },
    {
     "data": {
      "image/png": "[encoded data removed]",
      "text/plain": [
       "<Figure size 432x288 with 1 Axes>"
      ]
     },
     "metadata": {},
     "output_type": "display_data"
    }
   ],
   "source": [
    "feature_importances = best_clf.feature_importances_\n",
    "\n",
    "pd.Series(feature_importances, index=mailout_train_cleaned.drop([\"RESPONSE\"], axis=1).columns).sort_values()[-20:].plot(kind='barh')\n"
   ]
  },
  {
   "cell_type": "code",
   "execution_count": 77,
   "metadata": {
    "collapsed": true
   },
   "outputs": [],
   "source": [
    "#dump model\n",
    "#from sklearn.externals import joblib\n",
    "\n",
    "#joblib.dump(best_clf, 'batch1_gradboost.pkl')\n",
    "\n",
    "\n",
    "import pickle\n",
    "\n",
    "# Save to file in the current working directory\n",
    "pkl_filename = \"batch02_model.pkl\"  \n",
    "with open(pkl_filename, 'wb') as file:  \n",
    "    pickle.dump(best_clf, file)\n"
   ]
  },
  {
   "cell_type": "code",
   "execution_count": null,
   "metadata": {
    "collapsed": true
   },
   "outputs": [],
   "source": []
  },
  {
   "cell_type": "markdown",
   "metadata": {},
   "source": [
    "### Use whole train set to train model for the next step###/"
   ]
  },
  {
   "cell_type": "code",
   "execution_count": 108,
   "metadata": {},
   "outputs": [
    {
     "name": "stdout",
     "output_type": "stream",
     "text": [
      "Convert missing value codes into NaNs\n",
      "Attribute BIP_FLAG is not available in DataFrame.\n",
      "Attribute CAMEO_DEUINTL_2015 is not available in DataFrame.\n",
      "Attribute D19_KK_KUNDENTYP is not available in DataFrame.\n",
      "Attribute GEOSCORE_KLS7 is not available in DataFrame.\n",
      "Attribute HAUSHALTSSTRUKTUR is not available in DataFrame.\n",
      "Attribute KBA13_CCM_1400_2500 is not available in DataFrame.\n",
      "Attribute SOHO_FLAG is not available in DataFrame.\n",
      "Attribute WACHSTUMSGEBIET_NB is not available in DataFrame.\n",
      "Attribute D19_BUCH is not available in DataFrame.\n",
      "Attribute D19_KINDERARTIKELD19_KOSMETIK is not available in DataFrame.\n",
      "(42962, 367)\n",
      "Drop columns with more than 30% of missing values\n",
      "Drop columns indicated in attribute_types.csv file\n",
      "(42962, 304)\n",
      "(42962, 304)\n",
      "Re-encode categorical attributes\n",
      "Reencode OST_WEST_KZ attribute\n",
      "Change EINGEFUEGT_AM to year\n",
      "(42962, 409)\n",
      "Engineer PRAEGENDE_JUGENDJAHRE\n",
      "Engineer CAMEO_INTL_2015\n",
      "Engineer WOHNLAGE\n",
      "Engineer PLZ8_BAUMAX\n",
      "All columns are numeric\n",
      "(42962, 412)\n",
      "(42962, 412)\n"
     ]
    },
    {
     "data": {
      "image/png": "[encoded data removed]",
      "text/plain": [
       "<Figure size 432x288 with 1 Axes>"
      ]
     },
     "metadata": {},
     "output_type": "display_data"
    }
   ],
   "source": [
    "mailout_train_cleaned = clean_data(mailout_train, test_data=True)\n",
    "print(mailout_train_cleaned.shape)"
   ]
  },
  {
   "cell_type": "code",
   "execution_count": 109,
   "metadata": {
    "collapsed": true
   },
   "outputs": [],
   "source": [
    "y_train = mailout_train_cleaned[\"RESPONSE\"]\n",
    "X_train = mailout_train_cleaned.drop([\"RESPONSE\"], axis=1)"
   ]
  },
  {
   "cell_type": "code",
   "execution_count": 110,
   "metadata": {
    "collapsed": true
   },
   "outputs": [],
   "source": [
    "log_transform_attributes = ['ANZ_HAUSHALTE_AKTIV','KBA13_ANZAHL_PKW']\n",
    "transformer = FunctionTransformer(np.log1p, validate=False)\n",
    "X_train[log_transform_attributes] = transformer.transform(X_train[log_transform_attributes])\n",
    "\n",
    "imputer = Imputer(missing_values='NaN', strategy='median', axis=0)\n",
    "X_train = imputer.fit_transform(X_train[:])\n",
    "\n",
    "scaler = scaler = StandardScaler()\n",
    "X_train = scaler.fit_transform(X_train[:])"
   ]
  },
  {
   "cell_type": "code",
   "execution_count": 111,
   "metadata": {},
   "outputs": [
    {
     "name": "stdout",
     "output_type": "stream",
     "text": [
      "Roc_auc train score 0.8946312280819891\n"
     ]
    }
   ],
   "source": [
    "#initialize classifier\n",
    "clf = GradientBoostingClassifier(random_state=42)\n",
    "clf.fit(X_train, y_train)\n",
    "proba_train = clf.predict_proba(X_train)[:, 1]\n",
    "print(\"Roc_auc train score {}\".format(roc_auc_score(y_train, proba_train)))"
   ]
  },
  {
   "cell_type": "code",
   "execution_count": 112,
   "metadata": {
    "collapsed": true
   },
   "outputs": [],
   "source": [
    "# Save to file in the current working directory\n",
    "pkl_filename = \"batch03_whole_train_set_model.pkl\"  \n",
    "with open(pkl_filename, 'wb') as file:  \n",
    "    pickle.dump(clf, file)\n"
   ]
  },
  {
   "cell_type": "markdown",
   "metadata": {},
   "source": [
    "## Part 3: Kaggle Competition\n",
    "\n",
    "Now that you've created a model to predict which individuals are most likely to respond to a mailout campaign, it's time to test that model in competition through Kaggle. If you click on the link [here](http://www.kaggle.com/t/21e6d45d4c574c7fa2d868f0e8c83140), you'll be taken to the competition page where, if you have a Kaggle account, you can enter. If you're one of the top performers, you may have the chance to be contacted by a hiring manager from Arvato or Bertelsmann for an interview!\n",
    "\n",
    "Your entry to the competition should be a CSV file with two columns. The first column should be a copy of \"LNR\", which acts as an ID number for each individual in the \"TEST\" partition. The second column, \"RESPONSE\", should be some measure of how likely each individual became a customer – this might not be a straightforward probability. As you should have found in Part 2, there is a large output class imbalance, where most individuals did not respond to the mailout. Thus, predicting individual classes and using accuracy does not seem to be an appropriate performance evaluation method. Instead, the competition will be using AUC to evaluate performance. The exact values of the \"RESPONSE\" column do not matter as much: only that the higher values try to capture as many of the actual customers as possible, early in the ROC curve sweep."
   ]
  },
  {
   "cell_type": "code",
   "execution_count": 113,
   "metadata": {},
   "outputs": [
    {
     "name": "stderr",
     "output_type": "stream",
     "text": [
      "/Users/maxim/miniconda/envs/Python_36/lib/python3.6/site-packages/IPython/core/interactiveshell.py:2785: DtypeWarning: Columns (18,19) have mixed types. Specify dtype option on import or set low_memory=False.\n",
      "  interactivity=interactivity, compiler=compiler, result=result)\n"
     ]
    }
   ],
   "source": [
    "mailout_test = pd.read_csv('../Arvato-Capstone/Udacity_MAILOUT_052018_TEST.csv', sep=';')"
   ]
  },
  {
   "cell_type": "code",
   "execution_count": 114,
   "metadata": {},
   "outputs": [
    {
     "data": {
      "text/plain": [
       "(42833, 366)"
      ]
     },
     "execution_count": 114,
     "metadata": {},
     "output_type": "execute_result"
    }
   ],
   "source": [
    "mailout_test.shape"
   ]
  },
  {
   "cell_type": "code",
   "execution_count": 115,
   "metadata": {},
   "outputs": [
    {
     "name": "stdout",
     "output_type": "stream",
     "text": [
      "Convert missing value codes into NaNs\n",
      "Attribute BIP_FLAG is not available in DataFrame.\n",
      "Attribute CAMEO_DEUINTL_2015 is not available in DataFrame.\n",
      "Attribute D19_KK_KUNDENTYP is not available in DataFrame.\n",
      "Attribute GEOSCORE_KLS7 is not available in DataFrame.\n",
      "Attribute HAUSHALTSSTRUKTUR is not available in DataFrame.\n",
      "Attribute KBA13_CCM_1400_2500 is not available in DataFrame.\n",
      "Attribute SOHO_FLAG is not available in DataFrame.\n",
      "Attribute WACHSTUMSGEBIET_NB is not available in DataFrame.\n",
      "Attribute D19_BUCH is not available in DataFrame.\n",
      "Attribute D19_KINDERARTIKELD19_KOSMETIK is not available in DataFrame.\n",
      "(42833, 366)\n",
      "Drop columns with more than 30% of missing values\n",
      "Drop columns indicated in attribute_types.csv file\n",
      "(42833, 303)\n",
      "(42833, 303)\n",
      "Re-encode categorical attributes\n",
      "Reencode OST_WEST_KZ attribute\n",
      "Change EINGEFUEGT_AM to year\n",
      "(42833, 408)\n",
      "Engineer PRAEGENDE_JUGENDJAHRE\n",
      "Engineer CAMEO_INTL_2015\n",
      "Engineer WOHNLAGE\n",
      "Engineer PLZ8_BAUMAX\n",
      "All columns are numeric\n",
      "(42833, 411)\n"
     ]
    },
    {
     "data": {
      "image/png": "[encoded data removed]",
      "text/plain": [
       "<Figure size 432x288 with 1 Axes>"
      ]
     },
     "metadata": {},
     "output_type": "display_data"
    }
   ],
   "source": [
    "mailout_test_cleaned = clean_data(mailout_test, test_data=True)\n"
   ]
  },
  {
   "cell_type": "code",
   "execution_count": 116,
   "metadata": {},
   "outputs": [
    {
     "name": "stdout",
     "output_type": "stream",
     "text": [
      "set()\n",
      "(42962, 412)\n",
      "(42833, 411)\n"
     ]
    }
   ],
   "source": [
    "# get missing columns in the Customer set\n",
    "missing_columns = set(mailout_train_cleaned.drop([\"RESPONSE\"], axis=1).columns ) - set(mailout_test_cleaned.columns )\n",
    "\n",
    "print(missing_columns)\n",
    "\n",
    "# Add a missing column in test set with default value equal to 0\n",
    "for c in missing_columns:\n",
    "    mailout_test_cleaned[c] = 0\n",
    "# Ensure the order of column in the Azdias set is in the same order than in customers set\n",
    "mailout_test_cleaned = mailout_test_cleaned[mailout_train_cleaned.drop([\"RESPONSE\"], axis=1).columns]\n",
    "\n",
    "print(mailout_train_cleaned.shape)\n",
    "print(mailout_test_cleaned.shape)"
   ]
  },
  {
   "cell_type": "code",
   "execution_count": 117,
   "metadata": {
    "collapsed": true
   },
   "outputs": [],
   "source": [
    "mailout_test_cleaned[log_transform_attributes] = transformer.transform(mailout_test_cleaned[log_transform_attributes])\n",
    "\n",
    "mailout_test_cleaned = imputer.transform(mailout_test_cleaned[:])\n",
    "\n",
    "mailout_test_cleaned = scaler.transform(mailout_test_cleaned[:])\n"
   ]
  },
  {
   "cell_type": "code",
   "execution_count": 119,
   "metadata": {},
   "outputs": [
    {
     "name": "stdout",
     "output_type": "stream",
     "text": [
      "Test score: 98.80 %\n"
     ]
    }
   ],
   "source": [
    "# Load from file\n",
    "with open(pkl_filename, 'rb') as file:  \n",
    "    pickle_model = pickle.load(file)\n",
    "\n",
    "# Calculate the accuracy score and predict target values\n",
    "score = pickle_model.score(X_train, y_train)  \n",
    "print(\"Test score: {0:.2f} %\".format(100 * score))  \n",
    "kaggle_predict = pickle_model.predict_proba(mailout_test_cleaned) "
   ]
  },
  {
   "cell_type": "code",
   "execution_count": 120,
   "metadata": {},
   "outputs": [
    {
     "name": "stdout",
     "output_type": "stream",
     "text": [
      "[[ 0.95852262  0.04147738]\n",
      " [ 0.97854338  0.02145662]\n",
      " [ 0.99750406  0.00249594]\n",
      " ..., \n",
      " [ 0.97953933  0.02046067]\n",
      " [ 0.96526362  0.03473638]\n",
      " [ 0.97653561  0.02346439]]\n"
     ]
    }
   ],
   "source": [
    "print(kaggle_predict)"
   ]
  },
  {
   "cell_type": "code",
   "execution_count": 121,
   "metadata": {},
   "outputs": [
    {
     "data": {
      "text/plain": [
       "(42833, 2)"
      ]
     },
     "execution_count": 121,
     "metadata": {},
     "output_type": "execute_result"
    }
   ],
   "source": [
    "submission = pd.read_csv('../Arvato-Capstone/Arvato_Capstone_Example_Submission.csv')\n",
    "submission.RESPONSE = kaggle_predict\n",
    "submission.to_csv('kaggle_submission2.csv', index=False)\n",
    "submission.shape"
   ]
  },
  {
   "cell_type": "code",
   "execution_count": 122,
   "metadata": {},
   "outputs": [
    {
     "data": {
      "text/plain": [
       "Index(['LNR', 'RESPONSE'], dtype='object')"
      ]
     },
     "execution_count": 122,
     "metadata": {},
     "output_type": "execute_result"
    }
   ],
   "source": [
    "submission.columns"
   ]
  },
  {
   "cell_type": "code",
   "execution_count": null,
   "metadata": {
    "collapsed": true
   },
   "outputs": [],
   "source": []
  }
 ],
 "metadata": {
  "kernelspec": {
   "display_name": "Python 3",
   "language": "python",
   "name": "python3"
  },
  "language_info": {
   "codemirror_mode": {
    "name": "ipython",
    "version": 3
   },
   "file_extension": ".py",
   "mimetype": "text/x-python",
   "name": "python",
   "nbconvert_exporter": "python",
   "pygments_lexer": "ipython3",
   "version": "3.6.5"
  }
 },
 "nbformat": 4,
 "nbformat_minor": 2
}
